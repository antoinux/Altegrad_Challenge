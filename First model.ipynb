{
 "cells": [
  {
   "cell_type": "markdown",
   "metadata": {},
   "source": [
    "# Here I'll just implement that :\n",
    "http://dl.acm.org/citation.cfm?doid=2600428.2609514"
   ]
  },
  {
   "cell_type": "code",
   "execution_count": 1,
   "metadata": {
    "collapsed": true
   },
   "outputs": [],
   "source": [
    "import numpy as np\n",
    "import pandas as pd\n",
    "import matplotlib.pyplot as plt\n",
    "from sklearn.model_selection import train_test_split\n",
    "from ast import literal_eval\n",
    "%matplotlib inline"
   ]
  },
  {
   "cell_type": "code",
   "execution_count": 2,
   "metadata": {
    "collapsed": false
   },
   "outputs": [],
   "source": [
    "df = pd.read_csv('data/train.csv')\n",
    "df['recipient_id'] = df['recipient_id'].apply(literal_eval)\n",
    "df = df.drop('Unnamed: 0', 1)\n",
    "X, y = df[['sender_id', 'body']].values, df['recipient_id'].values\n",
    "X_train, X_test, y_train, y_test = train_test_split(X, y, test_size=.3)"
   ]
  },
  {
   "cell_type": "code",
   "execution_count": 3,
   "metadata": {
    "collapsed": false
   },
   "outputs": [
    {
     "data": {
      "text/html": [
       "<div>\n",
       "<table border=\"1\" class=\"dataframe\">\n",
       "  <thead>\n",
       "    <tr style=\"text-align: right;\">\n",
       "      <th></th>\n",
       "      <th>sender</th>\n",
       "      <th>sender_id</th>\n",
       "      <th>mid</th>\n",
       "      <th>date</th>\n",
       "      <th>body</th>\n",
       "      <th>recipient_id</th>\n",
       "      <th>recipients</th>\n",
       "    </tr>\n",
       "  </thead>\n",
       "  <tbody>\n",
       "    <tr>\n",
       "      <th>0</th>\n",
       "      <td>christian.yoder@enron.com</td>\n",
       "      <td>104</td>\n",
       "      <td>60</td>\n",
       "      <td>2000-07-25 08:14:00</td>\n",
       "      <td>Legal has been assessing the risks of doing bl...</td>\n",
       "      <td>[125, 126, 127, 117, 128, 129, 130, 131, 132]</td>\n",
       "      <td>robert.badeer@enron.com murray.o neil@enron.co...</td>\n",
       "    </tr>\n",
       "    <tr>\n",
       "      <th>1</th>\n",
       "      <td>heather.dunton@enron.com</td>\n",
       "      <td>113</td>\n",
       "      <td>66</td>\n",
       "      <td>2000-08-03 02:56:00</td>\n",
       "      <td>Attached is a spreadsheet to estimate export f...</td>\n",
       "      <td>[50, 125, 126, 127, 133, 28, 117, 134, 135, 13...</td>\n",
       "      <td>kim.ward@enron.com robert.badeer@enron.com mur...</td>\n",
       "    </tr>\n",
       "    <tr>\n",
       "      <th>2</th>\n",
       "      <td>janel.guerrero@enron.com</td>\n",
       "      <td>49</td>\n",
       "      <td>74</td>\n",
       "      <td>2000-08-15 05:37:00</td>\n",
       "      <td>Kevin/Bob: Here is a quick rundown on the cons...</td>\n",
       "      <td>[125, 146, 147]</td>\n",
       "      <td>robert.badeer@enron.com john.massey@enron.com ...</td>\n",
       "    </tr>\n",
       "    <tr>\n",
       "      <th>3</th>\n",
       "      <td>tim.belden@enron.com</td>\n",
       "      <td>117</td>\n",
       "      <td>80</td>\n",
       "      <td>2000-08-20 14:12:00</td>\n",
       "      <td>check this out and let everyone know what s up...</td>\n",
       "      <td>[125, 130]</td>\n",
       "      <td>robert.badeer@enron.com jeff.richter@enron.com</td>\n",
       "    </tr>\n",
       "    <tr>\n",
       "      <th>4</th>\n",
       "      <td>christian.yoder@enron.com</td>\n",
       "      <td>104</td>\n",
       "      <td>83</td>\n",
       "      <td>2000-08-22 08:17:00</td>\n",
       "      <td>Further to your letter to us (addressed to Mr....</td>\n",
       "      <td>[148, 149, 125, 150]</td>\n",
       "      <td>pgillman@schiffhardin.com kamarlantes@calpx.co...</td>\n",
       "    </tr>\n",
       "  </tbody>\n",
       "</table>\n",
       "</div>"
      ],
      "text/plain": [
       "                      sender  sender_id  mid                 date  \\\n",
       "0  christian.yoder@enron.com        104   60  2000-07-25 08:14:00   \n",
       "1   heather.dunton@enron.com        113   66  2000-08-03 02:56:00   \n",
       "2   janel.guerrero@enron.com         49   74  2000-08-15 05:37:00   \n",
       "3       tim.belden@enron.com        117   80  2000-08-20 14:12:00   \n",
       "4  christian.yoder@enron.com        104   83  2000-08-22 08:17:00   \n",
       "\n",
       "                                                body  \\\n",
       "0  Legal has been assessing the risks of doing bl...   \n",
       "1  Attached is a spreadsheet to estimate export f...   \n",
       "2  Kevin/Bob: Here is a quick rundown on the cons...   \n",
       "3  check this out and let everyone know what s up...   \n",
       "4  Further to your letter to us (addressed to Mr....   \n",
       "\n",
       "                                        recipient_id  \\\n",
       "0      [125, 126, 127, 117, 128, 129, 130, 131, 132]   \n",
       "1  [50, 125, 126, 127, 133, 28, 117, 134, 135, 13...   \n",
       "2                                    [125, 146, 147]   \n",
       "3                                         [125, 130]   \n",
       "4                               [148, 149, 125, 150]   \n",
       "\n",
       "                                          recipients  \n",
       "0  robert.badeer@enron.com murray.o neil@enron.co...  \n",
       "1  kim.ward@enron.com robert.badeer@enron.com mur...  \n",
       "2  robert.badeer@enron.com john.massey@enron.com ...  \n",
       "3     robert.badeer@enron.com jeff.richter@enron.com  \n",
       "4  pgillman@schiffhardin.com kamarlantes@calpx.co...  "
      ]
     },
     "execution_count": 3,
     "metadata": {},
     "output_type": "execute_result"
    }
   ],
   "source": [
    "df.head()"
   ]
  },
  {
   "cell_type": "markdown",
   "metadata": {},
   "source": [
    "Total number of addresses is 9874.\n",
    "\n",
    "### First, let's compute the social graph information we need"
   ]
  },
  {
   "cell_type": "code",
   "execution_count": 4,
   "metadata": {
    "collapsed": false
   },
   "outputs": [],
   "source": [
    "n_train = len(X_train)\n",
    "n_senders = 125\n",
    "n_people = 9874\n",
    "graph = np.zeros((n_senders, n_people))\n",
    "for i in range(n_train):\n",
    "    sender = X_train[i][0]\n",
    "    for recipient in y[i]:\n",
    "        graph[sender][recipient] += 1\n",
    "        \n",
    "total_received = np.sum(graph, axis=0)\n",
    "# if someone never received message, we put 1 instead of 0 to avoid arthmetical errors...\n",
    "for i in range(len(total_received)):\n",
    "    if total_received[i] == 0:\n",
    "        total_received[i] = 1\n",
    "\n",
    "graph_n = graph/total_received"
   ]
  },
  {
   "cell_type": "code",
   "execution_count": 5,
   "metadata": {
    "collapsed": false
   },
   "outputs": [
    {
     "data": {
      "text/plain": [
       "array([[ 0.,  1.,  2., ...,  0.,  0.,  0.],\n",
       "       [ 0.,  1.,  1., ...,  0.,  0.,  0.],\n",
       "       [ 0.,  1.,  1., ...,  0.,  0.,  0.],\n",
       "       ..., \n",
       "       [ 1.,  0.,  2., ...,  0.,  0.,  0.],\n",
       "       [ 0.,  0.,  0., ...,  0.,  0.,  0.],\n",
       "       [ 0.,  2.,  0., ...,  0.,  0.,  0.]])"
      ]
     },
     "execution_count": 5,
     "metadata": {},
     "output_type": "execute_result"
    }
   ],
   "source": [
    "graph"
   ]
  },
  {
   "cell_type": "code",
   "execution_count": 6,
   "metadata": {
    "collapsed": false
   },
   "outputs": [
    {
     "name": "stdout",
     "output_type": "stream",
     "text": [
      "(1136561, 1234250)\n"
     ]
    }
   ],
   "source": [
    "print(np.sum(graph == 0.), n_senders*n_people)"
   ]
  },
  {
   "cell_type": "markdown",
   "metadata": {},
   "source": [
    "The graph is really sparse (as one could expect), so changing the format would be a good idea if it was very large. But here operations are quite fast already."
   ]
  },
  {
   "cell_type": "markdown",
   "metadata": {},
   "source": [
    "### Now let's do the bag-of-word, tokenizing,... things"
   ]
  },
  {
   "cell_type": "code",
   "execution_count": 7,
   "metadata": {
    "collapsed": false
   },
   "outputs": [
    {
     "name": "stdout",
     "output_type": "stream",
     "text": [
      "MIDDLE EAST, AFRICA & ASIA-PACIFIC - US agency in threat on Indian loan guarantees.Financial Times, 09/10/01Manager s Journal: The Welch Legacy: Creative DestructionThe Wall Street Journal, 09/10/01RWE Unit Wants Top Spot Among Europe s Energy TradersDow Jones International News, 09/10/01INTERVIEW:Oman Delays LNG Deliveries To India Dabhol PwrDow Jones Energy Service, 09/10/01UK: Second phase of LME screen trade starts steady.Reuters English News Service, 09/10/01INDIA: US Exim may encash Enron India unit guarantee-paper.Reuters English News Service, 09/10/01INDIA PRESS: Dabhol Proj Cost May Rise $708M Due To DelayDow Jones International News, 09/10/01Dabhol impasse to cost MSEB Rs 15,000crThe Economic Times, 09/10/01Vajpayee Asks Indian Govt to Resolve Enron Power Plant DisputeBloomberg, 09/10/01MIDDLE EAST, AFRICA & ASIA-PACIFIC - US agency in threat on Indian loan guarantees.By KHOZEM MERCHANT.09/10/2001Financial Times(c) 2001 Financial Times Limited . All Rights ReservedThe US Export-Import Bank, one of the biggest lenders to the controversial Enron power project in Bombay, has indicated it may call in loan guarantees from Indian banks if a legal dispute over the plant is not resolved. The Washington-based export credit agency has advanced $298.2m ( #205.6m) to Enron s Indian arm, Dabhol Power Company (DPC), which is owed $45m in unpaid bills by its sole local customer, the Maharashtra State Electricity Board (MSEB). The two sides are locked in a messy legal dispute over the choice of an arbitration authority.Enron s relations with MSEB have collapsed since the utility rescinded its contract earlier this year and refused to draw down power from the 2,184mw plant in Maharashtra, western India. The Houston-based company says it wants to quit India and is demanding full compensation of the $1.1bn it has invested in the plant, whose $2.9bn total cost makes it India s biggest single foreign direct investment. About a third of the $2bn in debt raised by DPC to finance the project was from foreign lenders, including Bank of America, Citibank, ABN Amro and Overseas Private Investment Corp of the US. Indian banks  exposure is $1.4bn, including guarantees of foreign banks  loans. US Export-Import Bank s threat to invoke loan guarantees by a syndicate of five Indian banks, including Industrial Development Bank of India, the country s biggest long-term lender, is contained in a petition to a Bombay court. The US bank wants to be allowed to argue in court on behalf of DPC, which is contesting MSEB s choice of a local arbitrator to resolve the payments dispute. MSEB says the relatively untested Maharashtra Electricity Regulatory Commission (Merc) is the appropriate body to arbitrate. But DPC says arbitration must take place in the neutral location assigned in their contract. Last month, India s Supreme Court upheld DPC s appeal against the Bombay high court, which had earlier ruled that Merc must decide for itself on whether it is the correct body to arbitrate. The new judgment by the Bombay high court is expected soon. The US bank s move, which follows a similar initiative in July by 11 foreign banks with loans of $440m to DPC, is designed to persuade the Bombay court to uphold the arbitration procedure laid out in DPC s contract with MSEB. In its petition, US Export-Import Bank, which has loans and guarantees totalling $1.2bn in India, says a safe and internationally recognised arbitration process was a key factor in its decision to advance the loan to DPC. The dispute over arbitration is one element of a cooling relationship between Enron and India. Matters reached a diplomatically embarrassing point last month after Ken Lay, chairman of Enron, spoke of sanctions against India if the US company was not fully compensated. For regional reports, www.ft.com/asiapacific. (c) Copyright Financial Times Ltd. All rights reserved. http://www.ft.com.Copyright ? 2000 Dow Jones & Company, Inc. All Rights Reserved. \tManager s Journal: The Welch Legacy: Creative DestructionBy Richard Foster09/10/2001The Wall Street JournalA18(Copyright (c) 2001, Dow Jones & Company, Inc.)Whole institutions may one day be built just to preserve and dissect the leadership lessons of Jack Welch, who stepped down as chairman and CEO of General Electric on Friday. But the key to understanding Mr. Welch s astonishing legacy of shareholder return -- a 23% compounded annual growth rate over his 20-year tenure, versus 15% for the S&P 500 -- lies in what Joseph Schumpeter, the great Austrian-American economist of the 1930s and  40s, called \"the gales of creative destruction.\" In the latter part of his helmsmanship, Mr. Welch updated this mantra for a while by urging the managers of his business units to \"destroyyourbusiness.com,\" embracing the emerging capabilities of the Internet. What Mr. Welch recognized is that destroying one s own businesses -- or knowing when to let go of them and move in a different direction -- is a far surer way to generate value and outperform the market than to buckle down and try to protect what you ve built, regardless of how grand. Despite all the deserving accolades bestowed on Mr. Welch, and GE s willingness to share its philosophies and methods with others, GE s long-term performance remains a rare exception in corporate America.For the past several decades we have celebrated the big corporate survivors, praising their excellence and their longevity. The general assumption is that these are the bedrock companies of the American economy, attracting legions of patient investors with the expectation of being rewarded richly at the end of a lifetime. If only this were true. Of the 500 companies making up the S&P 500 when it was introduced in 1957, only 74 remained on the list through 1997. And of these 74, only 12 outperformed the S&P 500 index itself over the 1957-1998 period. Of these 12, only two were not part of industries which themselves outperformed the index: General Electric and Johnson & Johnson. If today s S&P 500 were made up only of those companies that were on the list when it was formed, the overall performance of the S&P would have been 20% less per year than it actually has been. Investors patiently investing in corporate survivors will substantially lag investors who merely invest in market index funds. Why is this? Capital markets, and the indices that reflect them, encourage the creation of corporations, support their efficient operations (so long as they remain competitive), and then rapidly -- and remorselessly -- remove them when they lose their ability to perform. Corporations that assume continuity and longevity in their businesses are unable to change at the pace and scale of the market. Superior performance, at least for a time, usually appears among relatively new entrants in the economy -- companies like Intel, Amgen and Cisco. Mr. Welch s brilliance was in never losing sight of the close parallels that should exist between corporations and capital markets in assessing investments, and in ensuring that GE changed at the pace of the market. As he wrote in GE s 2000 annual report: \"We ve long believed that when the rate of change inside an institution becomes slower than the rate of change outside, the end is in sight. The only question is when.\" How can corporations change internally at the same rate as the external markets? Corporations are built on the assumption of continuity; hence their focus is on operations. Capital markets are built on the assumption of discontinuity; their focus is on creation and destruction. This is the central contradiction of the life of a corporation: It cannot succeed without excellent operations, but it will fail if it focuses primarily on operations. Corporations are afflicted with the survivor s curse: Most are unable to earn above-average or even average shareholder returns over the long term. Their control processes -- the very processes that help them survive for the long haul -- deaden them to the need for change. Mr. Welch s mastery of creative destruction was rooted in his ability to decentralize operating responsibilities and make creative destruction the responsibility of senior management. This is a very difficult balancing act. Within four years of taking over as CEO at GE, Mr. Welch divested 117 business units -- from mines to Light N Easy irons -- totaling one-fifth of GE s 1981 $21 billion asset base. He was determined to shake up GE s staid, outmoded view of itself by creating, operating and ultimately selling divisions. Mr. Welch s \"new\" GE would be a high-tech provider of large-ticket products and essential services, ranging from mutual funds to jet engines, credit card processing, medical imaging, and network television programming. By aggressively moving to sell prime symbols of the \"old\" GE, Mr. Welch advanced his case by years, if not decades. He demonstrated early in his tenure that \"nothing is sacred,\" \"change will be accepted as the rule, rather than the exception,\" and \"paradox is a way of life.\" Even apparently big setbacks, like the ruling by European regulators against GE s bid for Honeywell, seem like an acceptable blip in the company s progress. As Mr. Welch told The Wall Street Journal in a 1999 interview, every acquisition GE makes has \"a perfect plan, but we know 20 or 30 percent will blow up in our face. A small company can only afford to make one or two bets or they go out of business. But we can afford to make lots more mistakes, and, in fact, we have to throw more things at the walls. The big companies that get into trouble are those that try to manage their size instead of experiment with it.\" This is similar to the private equity model of create, operate, trade. Other companies, including Enron and Johnson & Johnson, have followed the create, operate, trade mantra with positive results. In the 1920s and 1930s, the turnover rate in the old S&P 90 Index was about 1.5%, which meant that, on average, a company on the list could expect to remain on it for more than 65 years. Because of the accelerating forces of creative destruction, led by the mergers and acquisitions boom begun in the 1980s, McKinsey & Company estimates that by the end of the year 2020 the average lifetime of a corporation on the S&P will have been shortened to about 10 years. Will GE still be among the \"survivors,\" and continue to be a rare example of long-term market performance? No one really knows, but the challenge will be more difficult than Mr. Welch faced if long-term historic trends of market change continue. When Mr. Welch took over at GE in 1981, much of GE s management philosophy was based on the idea of defend first, attack if you must. Mr. Welch s greatest contribution to GE employees and shareholders has been to turn this rule on its head, into attack first, defend when necessary. Under Mr. Welch, GE found a way to effectively integrate the functions of creation, operation, and trading close to the pace and scale of the market. While mirroring GE s success will not be easy, Mr. Welch s legacy shows that accelerating change can be accomplished in public companies, and that the capital markets will reward the companies that can do it. --- Mr. Foster is a director at McKinsey & Company, and co-author of \"Creative Destruction: Why Companies That Are Built to Last Underperform the Market -- and How to Successfully Transform Them\" (Doubleday, 2001).Copyright ? 2000 Dow Jones & Company, Inc. All Rights Reserved. \tRWE Unit Wants Top Spot Among Europe s Energy TradersBy Stephan KueffnerOf DOW JONES NEWSWIRES09/10/2001Dow Jones International News(Copyright (c) 2001, Dow Jones & Company, Inc.)ESSEN, Germany -(Dow Jones)- RWE Trading GmbH, the energy trading unit of RWE AG (G.RWE), wants to be the top energy trader in Europe, its chairman told Dow Jones Newswires in an interview. \"We want to become Europe s leading energy trading house,\" said Hans-Dieter Erfkemper. Currently, the division is one of the top three along with Enron Corp. (ENE) and Electricite de France (F.EDF). It trades in power, gas, coal and oil.After beginning operations in 1999, RWE Trading last year sold 300 terawatt hours, contributing close EUR1.6 billion in group sales, and will at least equal that sum this year, adjusted for the company s merger-induced abbreviated fiscal year, Erfkemper said. RWE will report detailed annual figures Sept. 26. It trades in the U.K., Germany, and Scandinavian markets and plans to start trading in the U.S. in early 2002. Though the European market is still fragmented along national lines, Erfkemper expects a more unified market to gradually appear parallel to deregulation planned by the European Union. \"I do think the timetable the E.U. has set to liberalize itself will in the broadest sense be kept,\" Erfkemper said, \"though most countries will try to boost national champions as long as possible.\" Creating a European power market will also involve substantial investments in infrastructure to ease power congestion at international interconnection points. Some markets have yet to follow the lead of the U.K., Scandinavia, and Germany in setting up viable energy trading, but trading in physical volumes and derivatives will boom as the market develops, RWE Trading thinks. \"We believe the derivatives business will significantly grow in importance because physical growth in Europe is limited,\" Erfkemper said. RWE Trading expects derivatives trading to exceed trades in physical volumes to 2002 or 2003, and Erfkemper said he expects \"the real breakthrough for the classic, financial-markets-driven business around 2005 at the latest,\" together with deregulation and maturing of a European market. In 1999, European energy trading amounted to 2.5 thousand terawatt hours, with only a very small part being derivatives. Energy traders have a strong position to compete with traditional financial institutions in the energy trading market because they know how weather and other factors move power demand, and they have long-term historical data on which they can base their estimates. \"I suspect it s more difficult for banks to gain the 100-year experience of RWE than for an energy group to buy financial expertise,\" Erfkemper said. In the U.K., RWE Trading has built up a domestic power trading team and is currently setting up the legal and credit documentation necessary to get into the market. It hopes to enter the U.K. power market in October or November at the latest. In Germany, where two energy exchanges - the Leipzig Power Exchange and Deutsche Boerse AG s (G.DBO) European Energy Exchange - have initiated trading, Erfkemper said he hopes both exchanges will find closer ties now that the market has matured. RWE Trading believes it will continue to use the Open Link Finance trading system in the foreseeable future. Besides providing RWE with revenue from selling energy to third parties, the group s trading activities allow it to fine-tune production of its own within the group. RWE Trading has played a key roll in RWE s cost-management program, with plants expected to at least match wholesale prices noted by the trading unit, Erfkemper said. At present, RWE buys roughly half its power on the market, though the precise level depends closely on demand, the type of power, and a multiplicity of other factors, said RWE Trading Managing Director Stefan Judisch. While German power prices fell sharply since deregulation, they ve been recovering strongly this year - an indicator overcapacity is being eliminated, though German power producers still have plants online that are scheduled to be closed. \"If you just add installed megawatt capacity you re making a mistake\" in trying to gauge whether there s overcapacity in the market, Erfkemper said. RWE s power prices are currently hedged into 2003. Power demand on the continent will gradually follow the U.K. s lead and seek more peak-load power, rather than buying power from the base-load generation facilities that dominate the power plant landscape, Judisch said. \"Structurally, the amount of overcapacity in the market is far less than what people estimate,\" he added. The U.K. also has a lead in emissions rights trading, a business RWE Trading will soon become involved via RWE s Thames Water unit, beginning trading Oct. 1. The outlook for emissions rights trading in Europe is still quite hazy, Judisch said, citing uncertainties involved both in the Kyoto Process on reducing emissions and the slow progress in agreeing on a European Union directive for emissions rights trading in the E.U. The E.U. Commission hopes emissions rights trading can begin in 2005. While some companies have dabbled in international emissions trading among themselves in the meantime, Judisch ruled out the possibility RWE Trading would do that. Regarding weather derivatives, which are still developing in Europe, RWE Trading is drawing on the experience of other participants - particularly in the U.S. - and is working on a business plan for a weather derivatives product of its own. -By Stephan Kueffner, Dow Jones Newswires; +49 69 29 72 55 00; stephan.kueffner@dowjones.comCopyright ? 2000 Dow Jones & Company, Inc. All Rights Reserved. \tINTERVIEW:Oman Delays LNG Deliveries To India Dabhol Pwr09/10/2001Dow Jones Energy Service(Copyright (c) 2001, Dow Jones & Company, Inc.)Nurul Darni Of DOW JONES NEWSWIRES SINGAPORE -(Dow Jones)- Oman is delaying deliveries of its liquefied natural gas to India s Dabhol Power Co., a unit of Enron Corp. (ENE), following a price dispute between Enron and state-owned Maharashtra State Electricity Board, Oman s oil minister said Monday.Dabhol, which owns a 2,184-megawatt power project in the western Indian state of Maharashtra, has signed 20-year contracts requiring it to buy LNG from Oman and Abu Dhabi effective 2002. \"We have signed a contract with Dabhol sometime in the last two years to supply LNG beginning next year. But unfortunately, with the ongoing problems with Enron, LNG supplies will be delayed,\" Mohammed Al-Rumhy told Dow Jones Newswires in an interview. Last week, Enron threatened to pull out of the US$2.9 billion Dabhol project after a row over payments with its sole buyer, MSEB, and the failure of India s federal government to honor its counter-guarantee for the Dabhol project. \"We are concerned, but there is nothing we can do about it,\" Al-Rumhy said. \"The ongoing problem is affecting delivery of our first cargo in February next year. I don t expect that will happen,\" Al-Rumhy said, adding that the receiving facility in Dabhol isn t completed to accept its LNG shipment yet. Al-Rumhy said Oman is currently in talks with Dabhol to rearrange a new schedule on Oman s LNG delivery timing. \"We have not come out with an alternative schedule yet. But we hope to resolve that as soon as possible,\" Al-Rumhy said. Al-Rumhy said due to the ongoing dispute with Enron, the project may not be commissioned on time. Dabhol s phase II is about 95% complete, but that was not without glitches when construction of the project was abandoned in June due to Dabhol Power Co. s failure to pay contractors. \"However, a lot of money has gone to the project, and I m sure they ll find a way to complete the project,\" Al-Rumhy said. Enron has a 63% stake in Dabhol Power Co. MSEB holds a 15% stake, while U.S. companies General Electric Co. (GE) and Bechtel Group Inc. (X.BTL)) hold 10% each. \"Until the problem with Enron is resolved, it would be difficult for us and Dabhol to come up with a concrete plan about LNG deliveries,\" Al-Rumhy said. -By Nurul Darni, Dow Jones Newswires; 65-4154-064; nurul.darni@dowjones.com -0- 10/09/01 11-17GCopyright ? 2000 Dow Jones & Company, Inc. All Rights Reserved. \tUK: Second phase of LME screen trade starts steady.09/10/2001Reuters English News Service(C) Reuters Limited 2001.LONDON, Sept 10 (Reuters) - The second, more sophisticated phase of electronic screen trading on the London Metal Exchange (LME) made a slow but steady start on Monday, which traders said partly reflected the overall low level of business this morning. By 0904 GMT, total turnover on the copper , aluminium , and zinc three months contracts was 262 lots. Total turnover on Friday was 945 lots. But spread business had also been transacted, while some traders were also reporting quote requests having been input into the system.\"There has not been a lot of activity on it so far...but we ve got some request-for-quotes out,\" one trader said. Others said there appeared to be some initial data teething problems, but the system was more user-friendly than the original version launched earlier in the year. \"I think that maybe some people were unaware that the second release started today. But from what I ve seen it is easier to use than anticipated,\" another trader said. LME representatives are visting traders  offices, helping with screen configurations and  short-cuts , so trade could well pick up later, he said. The LME introduced its automated trading system (ATS), known as Select in February, but this was a basic version, confined to just the cash, three months and cash/three months spread benchmark contracts. There were also restrictions on lot sizes. However, in today s second release there is no restriction on lot size, and all the LME s contracts are now on the screen which trades from 0730 to 1930 local. It also incorporates a unique request-for-quote function. This allows traders to direct enquiries, such as market size and depth, to as many or as few respondents as required, and whether or not to be anonymous. The automated trade system (ATS) is not designed to replace open-outcry on the 124-year-old Exchange. Rather, it will complement the current mix of inter-office phone trading and open-outcry. Select is available to ring dealing members (RDMs) of the exchange and to associate broker clearing members (ABCMs), who have similar status but cannot participate in open outcry. LME Select, which will cost some 12 million pounds ($17.33 million) over three years, funded from LME resources, is supplied by Swedish technology company OM Gruppen. The LME s system runs alongside rival platforms, managed by UK-based Spectron Metals and Enron Online, part of Enron Corp of the U.S. Compared with open-outcry turnovers, screen volumes are comparatively low, although there have been signs in recent weeks that business on Select has been picking up.Copyright ? 2000 Dow Jones & Company, Inc. All Rights Reserved. \tINDIA: US Exim may encash Enron India unit guarantee-paper.09/10/2001Reuters English News Service(C) Reuters Limited 2001.BOMBAY, Sept 10 (Reuters) - The U.S. Exim Bank has threatened to encash nearly $300 million in guarantees given by Indian banks and financial institutions on loans to Enron s troubled Indian unit, a business daily reported on Monday. The report in the Economic Times quoted local news agencies as saying the bank had lent $298.2 million to an Enron subsidiary, Dabhol Power Company (DPC), to build a $2.9 billion, 2,184 MW power project on India s western coast.Of this, Enron s Indian unit owes $221.7 million of the principal to the U.S. Exim bank, the report said. Enron has been locked in a dispute with the Maharastra State Electricity Board (MSEB), which had contracted to buy power from the Enron project. The project s first phase of 740 MW is up and running, but work on the second phase, which is 97 percent complete, was halted in June after the (MSEB) refused to draw any more power, claiming the plant s power was too expensive. The utility has several unpaid bills and has refused to buy power from the second phase of the project. The lenders then refused to disburse the final portion of their loans. This forced Enron to announce its decision to exit the project because of the row and the utility s delay in payments. Enron claims the utility has not paid bills worth $185 million. Global lenders like Exim Bank are now afraid that Dabhol may not be able to repay its loans because of the controversy and the stoppage of purchases by its sole customer. \"We may require to draw upon the guarantees given to us by the Indian financial institutions...if DPC finds itself in a position, where it lacks the financial resources with which it could service or repay the loan advanced to it by us,\" the report in The Economic Times said. Leading lenders like the Industrial Development Bank of India (IDBI) , the Industrial Finance Corporation , ICICI Ltd , State Bank of India and Canara Bank had given guarantees to U.S. Exim for the loan. Guarantees are common in large infrastructure projects as a source of comfort for foreign lenders. Exim Bank officials were not immediately available for comment. PRESSURE ON GOVERNMENT The bank s move is bad news for the Indian government and its banks and financial institutions, led by the IDBI, the country s largest term lender. The lenders, including IDBI, are reeling under falling profits and mounting bad debts and would be hard-pressed to cough up the amount, analysts said. Exim s threat will increase pressure on the federal government to solve the spat between the U.S. energy giant and the utility, which some analysts say has hurt India s image among foreign investors. The Economic Times report said the U.S. Exim bank made the threat in a submission before the Bombay high court. The court is hearing a petition by Dabhol, which wants its dispute to be settled through arbitration in London. Exim Bank s submission before the Bombay high court is part of a petition by Dabhol seeking to overturn a stay on arbitration proceedings granted by a local regulator in June. The initial contract between DPC and MSEB in 1995 had provided for all disputes to be settled by a panel of arbitrators in London. But MSEB opposed this in May, saying that a local regulator, the Maharashtra Electricity Regulatory Commission (MERC), should rule on the issue and managed to secure a stay from the regulator on the arbitration. DPC is seeking to overturn this and foreign lenders, including Exim Bank, are backing the company s move. \"The willingness of the courts of a country where the project is situated to enforce arbitration agreements providing for international arbitration are important criteria for the bank when assessing the risk of lending within a particular country, and, when deciding whether it will or not advance any loan,\" the Economic Times report said.Copyright ? 2000 Dow Jones & Company, Inc. All Rights Reserved. \tINDIA PRESS: Dabhol Proj Cost May Rise $708M Due To Delay09/10/2001Dow Jones International News(Copyright (c) 2001, Dow Jones & Company, Inc.)NEW DELHI -(Dow Jones)- A delay in the completion of Dabhol Power Co. s 1,444-megawatt phase II is estimated to increase the project s cost by $708 million to $2.576 billion from $1.868 billion, reports the Economic Times, quoting DPC s estimates. Dabhol is a 2,184 megawatt power project in the western Indian state of Maharashtra. U.S. energy major Enron Corp. (ENE) holds a controlling 65% stake in DPC.Dabhol phase II is currently about 95% complete. Its construction was abandoned mid-June because of DPC s inability to pay the contractors. Enron has threatened to pull out of the Dabhol project following payment disputes with its sole buyer, the Maharashtra State Electricity Board and the failure of India s federal government to honor its counter-guarantee for Dabhol project. Web site: http://www.economictimes.com -By Himendra Kumar, Dow Jones Newswires; 91-11-461-9426; himendra.kumar@dowjones.comCopyright ? 2000 Dow Jones & Company, Inc. All Rights Reserved. \tDabhol impasse to cost MSEB Rs 15,000crOur Bureau09/10/2001The Economic TimesCopyright (C) 2001 The Economic Times; Source: World Reporter (TM)THE STOPPAGE of work and the current impasse at the Dabhol power project is estimated to increase the project cost by 39 per cent and impose liabilities to the tune of Rs 15,000 crore on the Maharashtra State Electricity Board and the state government. While the Centre will have to bear a liability of Rs 860 crore if the talks fail, financial institutions have expressed apprehensions that they may not be in a position to take any further exposure in the power sector.According to DPCs estimates which have been included in the committee report submitted to the Maharshtra government, the project cost for phase -II would increase from $1868 million to $2576 million. The total overrun including suspension costs aggregate to $708 million. Sources said if one excludes the project completion support of $214 million from sponsors, the balance overrun which would have to be financed by lenders would aggregate to $494 million. The project is estimated to take at least 18 months to be completed from the zero date, sources said. As far as the FIs are concerned, this delay and imbroglio will cost them heavily and could even lead to assets turning into non-performing in their accounts. The total exposure of the Indian lenders stands at $1.2 billion. It is further apprehended that if the export credit agencies decide to evoke their guarantees which have been covered by the FIs, it would straightaway lead to a cash outgo of Rs 3,507 crore. This is also expected to impact inflow of fresh FDI in the power sector. Although government sources and power ministry officials deny any such development, the Enron case has already began having its impact on future investments. So much so, that even domestic chapters of commerce and industry have now offered to play a role in mediating to find an early solution. The Prime mininisters message to work towards an acceptable solution at the earliest reflects the mood and the urgency behind the problem, sources said. A committee headed by IDBI met the Union power and finance secretaries last week to submit a roadmap to resolve the impasse. The committee has suggested several options and means to find a suitable solution. While some of them are unlikely to be accepted, industry sources said that the report can form the basis for further discussions.Copyright ? 2000 Dow Jones & Company, Inc. All Rights Reserved. \tVajpayee Asks Indian Govt to Resolve Enron Power Plant Dispute2001-09-10 04:25 (New York)Vajpayee Asks Indian Govt to Resolve Enron Power Plant Dispute     Singapore, Sept. 10 (Bloomberg) -- India s Prime MinisterAtal Behari Vajpayee has directed his government to resolve adispute over payments for electricity by the state of Maharashtrafrom a $3 billion power plant owned by a unit of Enron Corp., thebiggest energy trader, said Petroleum Minister Ram Naik.     ``That one issue has been pending for so long, and he wantsto sort it out,   Naik said in a Bloomberg television interview.He didn t say how the dispute would be resolved.     Vajpayee wants the government, financial institutions andother partners in the Dabhol Power Co. project to solve thedispute, which arose when the state defaulted on $64 million ofpayments, saying the plant charged too much.     The dispute may deter other investors from channeling theirmoney to India at a time when the economy is faltering. India seconomy expanded 3.8 percent in the first quarter, its slowestpace in almost three years.     Enron stopped construction of the second phase of the powerplant in June after the Maharashtra state stopped buying power amonth earlier.     ``Enron should be treated as an exception rather than therule,   Naik said. ``Thousands of companies from major countrieslike the U.S. and Japan or the U.K. or France, have invested overthe years in India.       Houston-based Enron owns 65 percent of Dabhol Power.\n"
     ]
    }
   ],
   "source": [
    "print(X_train[3][1])"
   ]
  },
  {
   "cell_type": "code",
   "execution_count": 8,
   "metadata": {
    "collapsed": false
   },
   "outputs": [],
   "source": [
    "from sklearn.feature_extraction.text import CountVectorizer"
   ]
  },
  {
   "cell_type": "code",
   "execution_count": 9,
   "metadata": {
    "collapsed": false
   },
   "outputs": [],
   "source": [
    "vect = CountVectorizer(min_df=3, binary=True)\n",
    "X_body = vect.fit_transform(X_train[:,1])"
   ]
  },
  {
   "cell_type": "code",
   "execution_count": 10,
   "metadata": {
    "collapsed": true
   },
   "outputs": [],
   "source": [
    "from collections import defaultdict\n",
    "\n",
    "n_words = X_body.shape[1]\n",
    "fwrs = [defaultdict(lambda: defaultdict(lambda: 0.)) for i in range(n_words)]\n",
    "fwr = [defaultdict(lambda: 0.) for i in range(n_words)]\n",
    "fw = np.array(np.sum(X_body, axis=0))[0].astype(float)"
   ]
  },
  {
   "cell_type": "code",
   "execution_count": 11,
   "metadata": {
    "collapsed": false
   },
   "outputs": [],
   "source": [
    "import itertools\n",
    "\n",
    "cx = X_body.tocoo()\n",
    "for i,j in itertools.izip(cx.row, cx.col):\n",
    "    for recipient_id in y_train[i]:\n",
    "        fwrs[j][X_train[i][0]][recipient_id] += 1\n",
    "        fwr[j][recipient_id] += 1"
   ]
  },
  {
   "cell_type": "code",
   "execution_count": 12,
   "metadata": {
    "collapsed": false
   },
   "outputs": [],
   "source": [
    "l, g, b = .6, .2, .2\n",
    "terms = [defaultdict(lambda: defaultdict(lambda: 0)) for i in range(n_words)]\n",
    "for w in range(n_words):\n",
    "    for s,d in fwrs[w].iteritems():\n",
    "        for r,v in d.iteritems():\n",
    "            terms[w][s][r] = np.log(l*v/max(1., graph[s][r]) + g*fwr[w][r]/total_received[r] + b*fw[w]/n_train)"
   ]
  },
  {
   "cell_type": "markdown",
   "metadata": {},
   "source": [
    "### Fit is done, let's predict on test"
   ]
  },
  {
   "cell_type": "markdown",
   "metadata": {},
   "source": [
    "Predict on only a small part of the test because we don't know how to compute the probabilities fast enough for now."
   ]
  },
  {
   "cell_type": "code",
   "execution_count": 13,
   "metadata": {
    "collapsed": false
   },
   "outputs": [],
   "source": [
    "n_small = 100\n",
    "X_test_body = vect.transform(X_test[:n_small,1])"
   ]
  },
  {
   "cell_type": "code",
   "execution_count": 31,
   "metadata": {
    "collapsed": true
   },
   "outputs": [],
   "source": [
    "y_predict = np.zeros((n_small, 10), dtype=int)"
   ]
  },
  {
   "cell_type": "code",
   "execution_count": 15,
   "metadata": {
    "collapsed": false
   },
   "outputs": [],
   "source": [
    "recipient_lists = [set() for i in range(125)]\n",
    "for i in range(125):\n",
    "    for j in range(n_people):\n",
    "        if graph[i][j] != 0:\n",
    "            recipient_lists[i].add(j)"
   ]
  },
  {
   "cell_type": "code",
   "execution_count": 20,
   "metadata": {
    "collapsed": false
   },
   "outputs": [
    {
     "data": {
      "text/plain": [
       "17529678"
      ]
     },
     "execution_count": 20,
     "metadata": {},
     "output_type": "execute_result"
    }
   ],
   "source": [
    "cxt = X_test_body.tocoo()\n",
    "cur = 0\n",
    "for i,j in itertools.izip(cxt.row, cxt.col):\n",
    "    cur += len(recipient_lists[X_test[i][0]])\n",
    "cur"
   ]
  },
  {
   "cell_type": "code",
   "execution_count": 19,
   "metadata": {
    "collapsed": false
   },
   "outputs": [],
   "source": [
    "cxt = X_test_body.tocoo()\n",
    "probas = [defaultdict(lambda: 0) for i in range(n_small)]\n",
    "cur = 0\n",
    "for i,j in itertools.izip(cxt.row, cxt.col):\n",
    "    s = X_test[i][0]\n",
    "    for r in recipient_lists[s]:\n",
    "        if(probas[i][r] == 0):\n",
    "            probas[i][r] = np.log(graph_n[s][r]) + np.log(total_received[r]/n_train)\n",
    "        probas[i][r] += terms[j][s][r]"
   ]
  },
  {
   "cell_type": "code",
   "execution_count": 107,
   "metadata": {
    "collapsed": false
   },
   "outputs": [
    {
     "data": {
      "text/plain": [
       "455"
      ]
     },
     "execution_count": 107,
     "metadata": {},
     "output_type": "execute_result"
    }
   ],
   "source": [
    "len(recipient_lists[10])"
   ]
  },
  {
   "cell_type": "code",
   "execution_count": 22,
   "metadata": {
    "collapsed": true
   },
   "outputs": [],
   "source": [
    "import operator"
   ]
  },
  {
   "cell_type": "code",
   "execution_count": 32,
   "metadata": {
    "collapsed": false
   },
   "outputs": [],
   "source": [
    "for i in range(n_small):\n",
    "    bests = sorted(probas[i].iteritems(), key=operator.itemgetter(1), reverse=True)[:10]\n",
    "    for j in range(10):\n",
    "        y_predict[i][j] = bests[j][0]"
   ]
  },
  {
   "cell_type": "code",
   "execution_count": 34,
   "metadata": {
    "collapsed": false
   },
   "outputs": [
    {
     "data": {
      "text/plain": [
       "0.1715183484504913"
      ]
     },
     "execution_count": 34,
     "metadata": {},
     "output_type": "execute_result"
    }
   ],
   "source": [
    "def ap(recommanded, real):\n",
    "    real_set = set(real)\n",
    "    cur = 0.\n",
    "    n = len(recommanded)\n",
    "    ans = 0.\n",
    "    for k in range(1, n+1):\n",
    "        if recommanded[k-1] in real_set:\n",
    "            cur += 1\n",
    "            ans += cur/k\n",
    "    return ans/min(n, len(real))\n",
    "\n",
    "def MAP(recommanded, real):\n",
    "    ans = 0.\n",
    "    for i in range(len(recommanded)):\n",
    "        ans += ap(recommanded[i], real[i])\n",
    "    return ans/len(recommanded)\n",
    "\n",
    "MAP(y_predict, y_test)"
   ]
  },
  {
   "cell_type": "code",
   "execution_count": 53,
   "metadata": {
    "collapsed": false
   },
   "outputs": [
    {
     "name": "stdout",
     "output_type": "stream",
     "text": [
      "[1633 1066 1645 1343 2470 2291 2199  331  838 1348]\n",
      "[1633]\n",
      "1.0\n"
     ]
    }
   ],
   "source": [
    "a = 14\n",
    "print y_predict[a]\n",
    "print y_test[a]\n",
    "print ap(y_predict[a], y_test[a])"
   ]
  },
  {
   "cell_type": "code",
   "execution_count": null,
   "metadata": {
    "collapsed": true
   },
   "outputs": [],
   "source": []
  }
 ],
 "metadata": {
  "kernelspec": {
   "display_name": "Python 2",
   "language": "python",
   "name": "python2"
  },
  "language_info": {
   "codemirror_mode": {
    "name": "ipython",
    "version": 2
   },
   "file_extension": ".py",
   "mimetype": "text/x-python",
   "name": "python",
   "nbconvert_exporter": "python",
   "pygments_lexer": "ipython2",
   "version": "2.7.11"
  }
 },
 "nbformat": 4,
 "nbformat_minor": 0
}
