{
 "cells": [
  {
   "cell_type": "markdown",
   "metadata": {},
   "source": [
    "# Here I'll just implement that :\n",
    "http://dl.acm.org/citation.cfm?doid=2600428.2609514"
   ]
  },
  {
   "cell_type": "code",
   "execution_count": 143,
   "metadata": {
    "collapsed": true
   },
   "outputs": [],
   "source": [
    "import numpy as np\n",
    "import pandas as pd\n",
    "import matplotlib.pyplot as plt\n",
    "from sklearn.model_selection import train_test_split\n",
    "from ast import literal_eval\n",
    "%matplotlib inline"
   ]
  },
  {
   "cell_type": "code",
   "execution_count": 208,
   "metadata": {
    "collapsed": false
   },
   "outputs": [],
   "source": [
    "#df = pd.read_csv('data/dummy2.csv')\n",
    "df = pd.read_csv('data/train.csv')\n",
    "df['recipient_id'] = df['recipient_id'].apply(literal_eval)\n",
    "X, y = df[['sender_id', 'body']].values, df['recipient_id'].values\n",
    "X_train, X_test, y_train, y_test = train_test_split(X, y, test_size=.3)"
   ]
  },
  {
   "cell_type": "code",
   "execution_count": 209,
   "metadata": {
    "collapsed": false
   },
   "outputs": [
    {
     "data": {
      "text/html": [
       "<div>\n",
       "<table border=\"1\" class=\"dataframe\">\n",
       "  <thead>\n",
       "    <tr style=\"text-align: right;\">\n",
       "      <th></th>\n",
       "      <th>sender</th>\n",
       "      <th>sender_id</th>\n",
       "      <th>mid</th>\n",
       "      <th>date</th>\n",
       "      <th>body</th>\n",
       "      <th>recipient_id</th>\n",
       "      <th>recipients</th>\n",
       "    </tr>\n",
       "  </thead>\n",
       "  <tbody>\n",
       "    <tr>\n",
       "      <th>0</th>\n",
       "      <td>christian.yoder@enron.com</td>\n",
       "      <td>104</td>\n",
       "      <td>60</td>\n",
       "      <td>2000-07-25 08:14:00</td>\n",
       "      <td>Legal has been assessing the risks of doing bl...</td>\n",
       "      <td>[125, 126, 127, 117, 128, 129, 130, 131, 132]</td>\n",
       "      <td>robert.badeer@enron.com murray.o neil@enron.co...</td>\n",
       "    </tr>\n",
       "    <tr>\n",
       "      <th>1</th>\n",
       "      <td>heather.dunton@enron.com</td>\n",
       "      <td>113</td>\n",
       "      <td>66</td>\n",
       "      <td>2000-08-03 02:56:00</td>\n",
       "      <td>Attached is a spreadsheet to estimate export f...</td>\n",
       "      <td>[50, 125, 126, 127, 133, 28, 117, 134, 135, 13...</td>\n",
       "      <td>kim.ward@enron.com robert.badeer@enron.com mur...</td>\n",
       "    </tr>\n",
       "    <tr>\n",
       "      <th>2</th>\n",
       "      <td>janel.guerrero@enron.com</td>\n",
       "      <td>49</td>\n",
       "      <td>74</td>\n",
       "      <td>2000-08-15 05:37:00</td>\n",
       "      <td>Kevin/Bob: Here is a quick rundown on the cons...</td>\n",
       "      <td>[125, 146, 147]</td>\n",
       "      <td>robert.badeer@enron.com john.massey@enron.com ...</td>\n",
       "    </tr>\n",
       "    <tr>\n",
       "      <th>3</th>\n",
       "      <td>tim.belden@enron.com</td>\n",
       "      <td>117</td>\n",
       "      <td>80</td>\n",
       "      <td>2000-08-20 14:12:00</td>\n",
       "      <td>check this out and let everyone know what s up...</td>\n",
       "      <td>[125, 130]</td>\n",
       "      <td>robert.badeer@enron.com jeff.richter@enron.com</td>\n",
       "    </tr>\n",
       "    <tr>\n",
       "      <th>4</th>\n",
       "      <td>christian.yoder@enron.com</td>\n",
       "      <td>104</td>\n",
       "      <td>83</td>\n",
       "      <td>2000-08-22 08:17:00</td>\n",
       "      <td>Further to your letter to us (addressed to Mr....</td>\n",
       "      <td>[148, 149, 125, 150]</td>\n",
       "      <td>pgillman@schiffhardin.com kamarlantes@calpx.co...</td>\n",
       "    </tr>\n",
       "  </tbody>\n",
       "</table>\n",
       "</div>"
      ],
      "text/plain": [
       "                      sender  sender_id  mid                 date  \\\n",
       "0  christian.yoder@enron.com        104   60  2000-07-25 08:14:00   \n",
       "1   heather.dunton@enron.com        113   66  2000-08-03 02:56:00   \n",
       "2   janel.guerrero@enron.com         49   74  2000-08-15 05:37:00   \n",
       "3       tim.belden@enron.com        117   80  2000-08-20 14:12:00   \n",
       "4  christian.yoder@enron.com        104   83  2000-08-22 08:17:00   \n",
       "\n",
       "                                                body  \\\n",
       "0  Legal has been assessing the risks of doing bl...   \n",
       "1  Attached is a spreadsheet to estimate export f...   \n",
       "2  Kevin/Bob: Here is a quick rundown on the cons...   \n",
       "3  check this out and let everyone know what s up...   \n",
       "4  Further to your letter to us (addressed to Mr....   \n",
       "\n",
       "                                        recipient_id  \\\n",
       "0      [125, 126, 127, 117, 128, 129, 130, 131, 132]   \n",
       "1  [50, 125, 126, 127, 133, 28, 117, 134, 135, 13...   \n",
       "2                                    [125, 146, 147]   \n",
       "3                                         [125, 130]   \n",
       "4                               [148, 149, 125, 150]   \n",
       "\n",
       "                                          recipients  \n",
       "0  robert.badeer@enron.com murray.o neil@enron.co...  \n",
       "1  kim.ward@enron.com robert.badeer@enron.com mur...  \n",
       "2  robert.badeer@enron.com john.massey@enron.com ...  \n",
       "3     robert.badeer@enron.com jeff.richter@enron.com  \n",
       "4  pgillman@schiffhardin.com kamarlantes@calpx.co...  "
      ]
     },
     "execution_count": 209,
     "metadata": {},
     "output_type": "execute_result"
    }
   ],
   "source": [
    "df.head()"
   ]
  },
  {
   "cell_type": "markdown",
   "metadata": {},
   "source": [
    "Total number of addresses is 9874.\n",
    "\n",
    "### First, let's compute the social graph information we need"
   ]
  },
  {
   "cell_type": "code",
   "execution_count": 212,
   "metadata": {
    "collapsed": false
   },
   "outputs": [],
   "source": [
    "n_train = len(X_train)\n",
    "n_senders, n_people = 125, 9874\n",
    "#n_senders, n_people = 1, 4\n",
    "graph = np.zeros((n_senders, n_people))\n",
    "for i in range(n_train):\n",
    "    sender = X_train[i][0]\n",
    "    # found the bug: y instead of y_train, that was shuffled.\n",
    "    for recipient in y_train[i]:\n",
    "        graph[sender][recipient] += 1\n",
    "        \n",
    "total_received = np.sum(graph, axis=0)\n",
    "# if someone never received message, we put 1 instead of 0 to avoid arthmetical errors...\n",
    "for i in range(len(total_received)):\n",
    "    if total_received[i] == 0:\n",
    "        total_received[i] = 1\n",
    "\n",
    "graph_n = graph/total_received"
   ]
  },
  {
   "cell_type": "code",
   "execution_count": 213,
   "metadata": {
    "collapsed": false
   },
   "outputs": [
    {
     "data": {
      "text/plain": [
       "array([[ 1.,  1.,  0., ...,  0.,  0.,  0.],\n",
       "       [ 0.,  0.,  0., ...,  0.,  0.,  0.],\n",
       "       [ 0.,  0.,  0., ...,  0.,  0.,  0.],\n",
       "       ..., \n",
       "       [ 0.,  0.,  0., ...,  0.,  0.,  0.],\n",
       "       [ 0.,  0.,  0., ...,  0.,  0.,  0.],\n",
       "       [ 0.,  0.,  0., ...,  0.,  0.,  0.]])"
      ]
     },
     "execution_count": 213,
     "metadata": {},
     "output_type": "execute_result"
    }
   ],
   "source": [
    "graph"
   ]
  },
  {
   "cell_type": "code",
   "execution_count": 214,
   "metadata": {
    "collapsed": false
   },
   "outputs": [
    {
     "name": "stdout",
     "output_type": "stream",
     "text": [
      "(1213924, 1234250)\n"
     ]
    }
   ],
   "source": [
    "print(np.sum(graph == 0.), n_senders*n_people)"
   ]
  },
  {
   "cell_type": "markdown",
   "metadata": {},
   "source": [
    "The graph is really sparse (as one could expect), so changing the format would be a good idea if it was very large. But here operations are quite fast already."
   ]
  },
  {
   "cell_type": "markdown",
   "metadata": {},
   "source": [
    "### Now let's do the bag-of-word, tokenizing,... things"
   ]
  },
  {
   "cell_type": "code",
   "execution_count": 215,
   "metadata": {
    "collapsed": false
   },
   "outputs": [
    {
     "name": "stdout",
     "output_type": "stream",
     "text": [
      "Bunda,I will call them later this morning when they open to give me a price.. then I will call Louis Shanks to see if they will match the price.  I will let you know as soon  as I find out somethingLoveME \n"
     ]
    }
   ],
   "source": [
    "print(X_train[3][1])"
   ]
  },
  {
   "cell_type": "code",
   "execution_count": 216,
   "metadata": {
    "collapsed": false
   },
   "outputs": [],
   "source": [
    "from sklearn.feature_extraction.text import CountVectorizer"
   ]
  },
  {
   "cell_type": "code",
   "execution_count": 218,
   "metadata": {
    "collapsed": false
   },
   "outputs": [],
   "source": [
    "vect = CountVectorizer(min_df=1, binary=True)\n",
    "X_body = vect.fit_transform(X_train[:,1])"
   ]
  },
  {
   "cell_type": "code",
   "execution_count": 219,
   "metadata": {
    "collapsed": true
   },
   "outputs": [],
   "source": [
    "from collections import defaultdict\n",
    "\n",
    "n_words = X_body.shape[1]\n",
    "fwrs = [defaultdict(lambda: defaultdict(lambda: 0.)) for i in range(n_words)]\n",
    "fwr = [defaultdict(lambda: 0.) for i in range(n_words)]\n",
    "fw = np.array(np.sum(X_body, axis=0))[0].astype(float)"
   ]
  },
  {
   "cell_type": "code",
   "execution_count": 220,
   "metadata": {
    "collapsed": false
   },
   "outputs": [],
   "source": [
    "import itertools\n",
    "\n",
    "cx = X_body.tocoo()\n",
    "for i,j in itertools.izip(cx.row, cx.col):\n",
    "    for recipient_id in y_train[i]:\n",
    "        fwrs[j][X_train[i][0]][recipient_id] += 1\n",
    "        fwr[j][recipient_id] += 1"
   ]
  },
  {
   "cell_type": "code",
   "execution_count": 221,
   "metadata": {
    "collapsed": false
   },
   "outputs": [],
   "source": [
    "l, g, b = .6, .2, .2\n",
    "terms = [defaultdict(lambda: defaultdict(lambda: 0)) for i in range(n_words)]\n",
    "for w in range(n_words):\n",
    "    for s,d in fwrs[w].iteritems():\n",
    "        for r,v in d.iteritems():\n",
    "            terms[w][s][r] = np.log(l*v/max(1., graph[s][r]) + g*fwr[w][r]/total_received[r] + b*fw[w]/n_train)"
   ]
  },
  {
   "cell_type": "markdown",
   "metadata": {},
   "source": [
    "### Fit is done, let's predict on test"
   ]
  },
  {
   "cell_type": "markdown",
   "metadata": {},
   "source": [
    "Predict on only a small part of the test because we don't know how to compute the probabilities fast enough for now."
   ]
  },
  {
   "cell_type": "code",
   "execution_count": 246,
   "metadata": {
    "collapsed": false
   },
   "outputs": [],
   "source": [
    "n_small = 1000\n",
    "X_test_body = vect.transform(X_test[:n_small,1])"
   ]
  },
  {
   "cell_type": "code",
   "execution_count": 247,
   "metadata": {
    "collapsed": false
   },
   "outputs": [
    {
     "data": {
      "text/plain": [
       "(1000, 153808)"
      ]
     },
     "execution_count": 247,
     "metadata": {},
     "output_type": "execute_result"
    }
   ],
   "source": [
    "X_test_body.shape"
   ]
  },
  {
   "cell_type": "code",
   "execution_count": 248,
   "metadata": {
    "collapsed": true
   },
   "outputs": [],
   "source": [
    "y_pred = np.zeros((X_test_body.shape[0], 10), dtype=int)"
   ]
  },
  {
   "cell_type": "code",
   "execution_count": 249,
   "metadata": {
    "collapsed": false
   },
   "outputs": [],
   "source": [
    "recipient_lists = [set() for i in range(125)]\n",
    "for i in range(n_senders):\n",
    "    for j in range(n_people):\n",
    "        if graph[i][j] != 0:\n",
    "            recipient_lists[i].add(j)"
   ]
  },
  {
   "cell_type": "code",
   "execution_count": 250,
   "metadata": {
    "collapsed": false
   },
   "outputs": [
    {
     "data": {
      "text/plain": [
       "27009280"
      ]
     },
     "execution_count": 250,
     "metadata": {},
     "output_type": "execute_result"
    }
   ],
   "source": [
    "cxt = X_test_body.tocoo()\n",
    "cur = 0\n",
    "for i,j in itertools.izip(cxt.row, cxt.col):\n",
    "    cur += len(recipient_lists[X_test[i][0]])\n",
    "cur"
   ]
  },
  {
   "cell_type": "code",
   "execution_count": 251,
   "metadata": {
    "collapsed": false
   },
   "outputs": [
    {
     "name": "stdout",
     "output_type": "stream",
     "text": [
      "54.7495641708\n"
     ]
    }
   ],
   "source": [
    "from time import time\n",
    "\n",
    "start = time()\n",
    "cxt = X_test_body.tocoo()\n",
    "probas = [defaultdict(lambda: 0) for i in range(n_small)]\n",
    "cur = 0\n",
    "for i,j in itertools.izip(cxt.row, cxt.col):\n",
    "    s = X_test[i][0]\n",
    "    for r in recipient_lists[s]:\n",
    "        if(probas[i][r] == 0):\n",
    "            probas[i][r] = np.log(graph[s][r])\n",
    "        if terms[j][s][r] == 0:\n",
    "            probas[i][r] += np.log(g*fwr[j][r]/total_received[r] + b*fw[j]/n_train)\n",
    "        probas[i][r] += terms[j][s][r]\n",
    "print time() - start"
   ]
  },
  {
   "cell_type": "code",
   "execution_count": 252,
   "metadata": {
    "collapsed": false
   },
   "outputs": [
    {
     "data": {
      "text/plain": [
       "defaultdict(<function __main__.<lambda>>, {})"
      ]
     },
     "execution_count": 252,
     "metadata": {},
     "output_type": "execute_result"
    }
   ],
   "source": [
    "terms[2][0]"
   ]
  },
  {
   "cell_type": "code",
   "execution_count": 253,
   "metadata": {
    "collapsed": false
   },
   "outputs": [
    {
     "data": {
      "text/plain": [
       "85"
      ]
     },
     "execution_count": 253,
     "metadata": {},
     "output_type": "execute_result"
    }
   ],
   "source": [
    "X_test[40][0]"
   ]
  },
  {
   "cell_type": "code",
   "execution_count": 254,
   "metadata": {
    "collapsed": false
   },
   "outputs": [
    {
     "data": {
      "text/plain": [
       "{38}"
      ]
     },
     "execution_count": 254,
     "metadata": {},
     "output_type": "execute_result"
    }
   ],
   "source": [
    "recipient_lists[38]"
   ]
  },
  {
   "cell_type": "code",
   "execution_count": 255,
   "metadata": {
    "collapsed": true
   },
   "outputs": [],
   "source": [
    "import operator"
   ]
  },
  {
   "cell_type": "code",
   "execution_count": 256,
   "metadata": {
    "collapsed": false
   },
   "outputs": [],
   "source": [
    "for i in range(n_small):\n",
    "    bests = sorted(probas[i].iteritems(), key=operator.itemgetter(1), reverse=True)[:10]\n",
    "    #if(len(bests) < 10):\n",
    "    #    print(i, bests)\n",
    "    for j in range(min(len(bests), 10)):\n",
    "        y_pred[i][j] = bests[j][0]"
   ]
  },
  {
   "cell_type": "code",
   "execution_count": 257,
   "metadata": {
    "collapsed": false
   },
   "outputs": [
    {
     "data": {
      "text/plain": [
       "370"
      ]
     },
     "execution_count": 257,
     "metadata": {},
     "output_type": "execute_result"
    }
   ],
   "source": [
    "(graph[X_test[7][0]] > 0).sum()"
   ]
  },
  {
   "cell_type": "code",
   "execution_count": 258,
   "metadata": {
    "collapsed": true
   },
   "outputs": [],
   "source": [
    "sender_favorites = graph.argsort()[:,-10:][:,::-1]\n",
    "y_pred2 = sender_favorites[X_test[:n_small,0].astype(int)]"
   ]
  },
  {
   "cell_type": "code",
   "execution_count": 259,
   "metadata": {
    "collapsed": false
   },
   "outputs": [
    {
     "name": "stdout",
     "output_type": "stream",
     "text": [
      "With only the social graph (baseline)\n",
      "0.293037162698\n",
      "With the social graph + Naive Bayes on word occurances\n",
      "0.417350182036\n"
     ]
    }
   ],
   "source": [
    "def ap(recommanded, real):\n",
    "    real_set = set(real)\n",
    "    cur = 0.\n",
    "    n = len(recommanded)\n",
    "    ans = 0.\n",
    "    for k in range(1, n+1):\n",
    "        if recommanded[k-1] in real_set:\n",
    "            cur += 1\n",
    "            ans += cur/k\n",
    "    return ans/min(n, len(real))\n",
    "\n",
    "def MAP(recommanded, real):\n",
    "    ans = 0.\n",
    "    for i in range(len(recommanded)):\n",
    "        ans += ap(recommanded[i], real[i])\n",
    "    return ans/len(recommanded)\n",
    "\n",
    "print \"With only the social graph (baseline)\"\n",
    "print MAP(y_pred2, y_test[:n_small])\n",
    "print \"With the social graph + Naive Bayes on word occurances\"\n",
    "print MAP(y_pred, y_test[:n_small])"
   ]
  },
  {
   "cell_type": "code",
   "execution_count": null,
   "metadata": {
    "collapsed": true
   },
   "outputs": [],
   "source": []
  }
 ],
 "metadata": {
  "kernelspec": {
   "display_name": "Python 2",
   "language": "python",
   "name": "python2"
  },
  "language_info": {
   "codemirror_mode": {
    "name": "ipython",
    "version": 2
   },
   "file_extension": ".py",
   "mimetype": "text/x-python",
   "name": "python",
   "nbconvert_exporter": "python",
   "pygments_lexer": "ipython2",
   "version": "2.7.11"
  }
 },
 "nbformat": 4,
 "nbformat_minor": 0
}
