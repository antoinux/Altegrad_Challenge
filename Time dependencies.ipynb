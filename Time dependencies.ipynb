{
 "cells": [
  {
   "cell_type": "markdown",
   "metadata": {},
   "source": [
    "### The first model didn't take advantage of the date feature. Here we'll try to see what we can learn from it.\n",
    "\n",
    "Note: good ideas with psychological memory models in this article:\n",
    "http://ieeexplore.ieee.org/document/6273570/"
   ]
  },
  {
   "cell_type": "code",
   "execution_count": 1,
   "metadata": {
    "collapsed": true
   },
   "outputs": [],
   "source": [
    "import numpy as np\n",
    "import pandas as pd\n",
    "import matplotlib.pyplot as plt\n",
    "from sklearn.model_selection import train_test_split\n",
    "from ast import literal_eval\n",
    "from time import time\n",
    "from datetime import datetime\n",
    "%matplotlib inline"
   ]
  },
  {
   "cell_type": "code",
   "execution_count": 2,
   "metadata": {
    "collapsed": false
   },
   "outputs": [],
   "source": [
    "df_train = pd.read_csv('data/train.csv')\n",
    "df_test = pd.read_csv('data/test.csv')\n",
    "df_train['recipient_id'] = df_train['recipient_id'].apply(literal_eval)\n",
    "X = df_train.sort_values('date')[['sender_id', 'date', 'recipient_id']].values\n",
    "X_test = df_test.sort_values('date')[['sender_id', 'date']].values"
   ]
  },
  {
   "cell_type": "code",
   "execution_count": 3,
   "metadata": {
    "collapsed": false
   },
   "outputs": [],
   "source": [
    "senders_train_dates = [[] for i in range(125)]\n",
    "senders_test_dates = [[] for i in range(125)]\n",
    "\n",
    "def get_int(s):\n",
    "    return int((datetime.strptime(s, \"%Y-%m-%d %H:%M:%S\") - datetime(1970,1,1)).total_seconds())\n",
    "\n",
    "for l in X:\n",
    "    senders_train_dates[l[0]].append(datetime.strptime(l[1], \"%Y-%m-%d %H:%M:%S\"))\n",
    "for l in X_test:\n",
    "    senders_test_dates[l[0]].append(datetime.strptime(l[1], \"%Y-%m-%d %H:%M:%S\"))"
   ]
  },
  {
   "cell_type": "code",
   "execution_count": 4,
   "metadata": {
    "collapsed": false
   },
   "outputs": [],
   "source": [
    "for i in range(125):\n",
    "    if(senders_train_dates[i][-1] > senders_test_dates[i][0]):\n",
    "        print(i, senders_train_dates[i][-1], senders_test_dates[i][0])"
   ]
  },
  {
   "cell_type": "markdown",
   "metadata": {
    "collapsed": true
   },
   "source": [
    "First thing: all dates of the test are after de ones of the train. So the task can be seen as forecasting."
   ]
  },
  {
   "cell_type": "code",
   "execution_count": null,
   "metadata": {
    "collapsed": true
   },
   "outputs": [],
   "source": []
  }
 ],
 "metadata": {
  "kernelspec": {
   "display_name": "Python 2",
   "language": "python",
   "name": "python2"
  },
  "language_info": {
   "codemirror_mode": {
    "name": "ipython",
    "version": 2
   },
   "file_extension": ".py",
   "mimetype": "text/x-python",
   "name": "python",
   "nbconvert_exporter": "python",
   "pygments_lexer": "ipython2",
   "version": "2.7.11"
  }
 },
 "nbformat": 4,
 "nbformat_minor": 0
}
