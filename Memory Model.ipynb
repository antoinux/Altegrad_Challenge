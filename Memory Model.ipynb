{
 "cells": [
  {
   "cell_type": "code",
   "execution_count": 4,
   "metadata": {
    "collapsed": true
   },
   "outputs": [],
   "source": [
    "import numpy as np\n",
    "import pandas as pd\n",
    "from ast import literal_eval\n",
    "from time import time\n",
    "from collections import defaultdict\n",
    "import matplotlib.pyplot as plt\n",
    "%matplotlib inline"
   ]
  },
  {
   "cell_type": "code",
   "execution_count": 5,
   "metadata": {
    "collapsed": true
   },
   "outputs": [],
   "source": [
    "df = pd.read_csv('data/train.csv').sort_values('date')\n",
    "df['recipient_id'] = df['recipient_id'].apply(literal_eval)"
   ]
  },
  {
   "cell_type": "code",
   "execution_count": 6,
   "metadata": {
    "collapsed": false
   },
   "outputs": [
    {
     "data": {
      "text/html": [
       "<div>\n",
       "<table border=\"1\" class=\"dataframe\">\n",
       "  <thead>\n",
       "    <tr style=\"text-align: right;\">\n",
       "      <th></th>\n",
       "      <th>sender</th>\n",
       "      <th>sender_id</th>\n",
       "      <th>mid</th>\n",
       "      <th>date</th>\n",
       "      <th>body</th>\n",
       "      <th>recipient_id</th>\n",
       "      <th>recipients</th>\n",
       "    </tr>\n",
       "  </thead>\n",
       "  <tbody>\n",
       "    <tr>\n",
       "      <th>5304</th>\n",
       "      <td>enron_update@concureworkplace.com</td>\n",
       "      <td>124</td>\n",
       "      <td>47361</td>\n",
       "      <td>0001-08-26 22:16:36</td>\n",
       "      <td>The following reports have been waiting for yo...</td>\n",
       "      <td>[377]</td>\n",
       "      <td>kimberly.watson@enron.com</td>\n",
       "    </tr>\n",
       "    <tr>\n",
       "      <th>5305</th>\n",
       "      <td>enron_update@concureworkplace.com</td>\n",
       "      <td>124</td>\n",
       "      <td>47362</td>\n",
       "      <td>0001-08-27 22:21:02</td>\n",
       "      <td>The following reports have been waiting for yo...</td>\n",
       "      <td>[377]</td>\n",
       "      <td>kimberly.watson@enron.com</td>\n",
       "    </tr>\n",
       "    <tr>\n",
       "      <th>5306</th>\n",
       "      <td>enron_update@concureworkplace.com</td>\n",
       "      <td>124</td>\n",
       "      <td>47363</td>\n",
       "      <td>0001-08-28 22:25:35</td>\n",
       "      <td>The following reports have been waiting for yo...</td>\n",
       "      <td>[377]</td>\n",
       "      <td>kimberly.watson@enron.com</td>\n",
       "    </tr>\n",
       "    <tr>\n",
       "      <th>5285</th>\n",
       "      <td>enron_update@concureworkplace.com</td>\n",
       "      <td>124</td>\n",
       "      <td>45909</td>\n",
       "      <td>0001-09-13 22:24:08</td>\n",
       "      <td>Employee Name: Kimberly WatsonReport Name:   E...</td>\n",
       "      <td>[377]</td>\n",
       "      <td>kimberly.watson@enron.com</td>\n",
       "    </tr>\n",
       "    <tr>\n",
       "      <th>8934</th>\n",
       "      <td>enron_update@concureworkplace.com</td>\n",
       "      <td>124</td>\n",
       "      <td>82030</td>\n",
       "      <td>0001-09-17 09:24:00</td>\n",
       "      <td>The following expense report is ready for appr...</td>\n",
       "      <td>[121]</td>\n",
       "      <td>barry.tycholiz@enron.com</td>\n",
       "    </tr>\n",
       "  </tbody>\n",
       "</table>\n",
       "</div>"
      ],
      "text/plain": [
       "                                 sender  sender_id    mid  \\\n",
       "5304  enron_update@concureworkplace.com        124  47361   \n",
       "5305  enron_update@concureworkplace.com        124  47362   \n",
       "5306  enron_update@concureworkplace.com        124  47363   \n",
       "5285  enron_update@concureworkplace.com        124  45909   \n",
       "8934  enron_update@concureworkplace.com        124  82030   \n",
       "\n",
       "                     date                                               body  \\\n",
       "5304  0001-08-26 22:16:36  The following reports have been waiting for yo...   \n",
       "5305  0001-08-27 22:21:02  The following reports have been waiting for yo...   \n",
       "5306  0001-08-28 22:25:35  The following reports have been waiting for yo...   \n",
       "5285  0001-09-13 22:24:08  Employee Name: Kimberly WatsonReport Name:   E...   \n",
       "8934  0001-09-17 09:24:00  The following expense report is ready for appr...   \n",
       "\n",
       "     recipient_id                 recipients  \n",
       "5304        [377]  kimberly.watson@enron.com  \n",
       "5305        [377]  kimberly.watson@enron.com  \n",
       "5306        [377]  kimberly.watson@enron.com  \n",
       "5285        [377]  kimberly.watson@enron.com  \n",
       "8934        [121]   barry.tycholiz@enron.com  "
      ]
     },
     "execution_count": 6,
     "metadata": {},
     "output_type": "execute_result"
    }
   ],
   "source": [
    "df.head()"
   ]
  },
  {
   "cell_type": "markdown",
   "metadata": {},
   "source": [
    "### Here I'll try some ideas from there:\n",
    "http://ieeexplore.ieee.org/document/6273570/"
   ]
  },
  {
   "cell_type": "code",
   "execution_count": 4,
   "metadata": {
    "collapsed": true
   },
   "outputs": [],
   "source": [
    "def make_dataset(df, split_ratio=.1):\n",
    "    X, y = df[['sender_id', 'date']].values, df['recipient_id'].values\n",
    "    \n",
    "    X_full = np.array([np.datetime64(s[1]) for s in X]).astype('int64')\n",
    "    \n",
    "    X_lol, y_lol = defaultdict(lambda: []), defaultdict(lambda: [])\n",
    "    recipient_indexes = []\n",
    "    for i in range(len(X)):\n",
    "        X_lol[X[i][0]].append(X_full[i])\n",
    "        y_lol[X[i][0]].append(y[i])\n",
    "        \n",
    "    X_train, X_test, y_train, y_test = [], [], [], []\n",
    "    \n",
    "    for i in range(125):\n",
    "        cur_X = np.array(X_lol[i])\n",
    "        train_size = len(cur_X) - int(.1*len(cur_X))\n",
    "        X_train.append(cur_X[:train_size])\n",
    "        X_test.append(cur_X[train_size:])\n",
    "        cur_y = np.array(y_lol[i])\n",
    "        y_train.append(cur_y[:train_size])\n",
    "        y_test.append(cur_y[train_size:])\n",
    "    \n",
    "    return X_train, X_test, y_train, y_test, recipient_indexes"
   ]
  },
  {
   "cell_type": "code",
   "execution_count": 5,
   "metadata": {
    "collapsed": false
   },
   "outputs": [
    {
     "name": "stdout",
     "output_type": "stream",
     "text": [
      "0.07044506073\n"
     ]
    }
   ],
   "source": [
    "from time import time\n",
    "start = time()\n",
    "X_train, X_test, y_train, y_test, recipient_indexes = make_dataset(df)\n",
    "print time() - start"
   ]
  },
  {
   "cell_type": "code",
   "execution_count": 6,
   "metadata": {
    "collapsed": false
   },
   "outputs": [],
   "source": [
    "def predict_sender(X_train, y_train, X_test, l=1.5):\n",
    "    n_senders, n_people = 125, 9874\n",
    "    y_pred = []\n",
    "    for i in range(len(X_test)):\n",
    "        graph = np.zeros(n_people)\n",
    "        for j in range(len(X_train)):\n",
    "            for r in y_train[j]:\n",
    "                graph[r] += (X_test[i] - X_train[j])**(-l)\n",
    "        y_pred.append(np.argsort(graph)[::-1][:10])\n",
    "    return y_pred\n",
    "\n",
    "def predict(X_train, y_train, X_test, l=1.5, verbose=False):\n",
    "    y_pred = [[] for i in range(125)]\n",
    "    for s in range(125):\n",
    "        if verbose:\n",
    "            print s\n",
    "        y_pred[s] = predict_sender(X_train[s], y_train[s], X_test[s], l)\n",
    "    return y_pred"
   ]
  },
  {
   "cell_type": "code",
   "execution_count": 7,
   "metadata": {
    "collapsed": true
   },
   "outputs": [],
   "source": [
    "def ap(recommanded, real):\n",
    "    real_set = set(real)\n",
    "    cur = 0.\n",
    "    n = len(recommanded)\n",
    "    ans = 0.\n",
    "    for k in range(1, n+1):\n",
    "        if recommanded[k-1] in real_set:\n",
    "            cur += 1\n",
    "            ans += cur/k\n",
    "    return ans/min(n, len(real))\n",
    "\n",
    "def MAP(recommanded, real):\n",
    "    ans = 0.\n",
    "    for i in range(len(recommanded)):\n",
    "        ans += ap(recommanded[i], real[i])\n",
    "    return ans/len(recommanded)"
   ]
  },
  {
   "cell_type": "code",
   "execution_count": 8,
   "metadata": {
    "collapsed": true
   },
   "outputs": [],
   "source": [
    "def score_sender(y_pred, y_test):\n",
    "    score = 0.\n",
    "    for j in range(len(y_pred)):\n",
    "        score += ap(y_pred[j], y_test[j])\n",
    "    return score\n",
    "\n",
    "def score(y_pred, y_test):\n",
    "    scores = np.empty(125, dtype=float)\n",
    "    c = 0\n",
    "    for s in range(125):\n",
    "        c += len(X_test[s])\n",
    "        for j in range(len(y_test[s])):\n",
    "            scores[s] += ap(y_pred[s][j], y_test[s][j])\n",
    "    return np.sum(scores)/c, scores/c"
   ]
  },
  {
   "cell_type": "code",
   "execution_count": 9,
   "metadata": {
    "collapsed": false
   },
   "outputs": [
    {
     "name": "stderr",
     "output_type": "stream",
     "text": [
      "/home/daemonginger/anaconda2/lib/python2.7/site-packages/ipykernel/__main__.py:8: RuntimeWarning: divide by zero encountered in power\n"
     ]
    },
    {
     "name": "stdout",
     "output_type": "stream",
     "text": [
      "Best l for 0: 0.5\n",
      "Best l for 1: 9.5\n",
      "Best l for 2: 1.2\n",
      "Best l for 3: 1.35\n",
      "Best l for 4: 1.5\n",
      "Best l for 5: 0.75\n",
      "Best l for 6: 1.35\n",
      "Best l for 7: 0.0\n",
      "Best l for 8: 0.0\n",
      "Best l for 9: 0.5\n",
      "Best l for 10: 1.5\n",
      "Best l for 11: 3.0\n",
      "Best l for 12: 5.5\n",
      "Best l for 13: 6.0\n",
      "Best l for 14: 4.0\n",
      "Best l for 15: 0.15\n",
      "Best l for 16: 0.6\n",
      "Best l for 17: 0.6\n",
      "Best l for 18: 2.4\n",
      "Best l for 19: 0.5\n",
      "Best l for 20: 0.3\n",
      "Best l for 21: 1.0\n",
      "Best l for 22: 2.5\n",
      "Best l for 23: 3.5\n",
      "Best l for 24: 1.35\n",
      "Best l for 25: 0.5\n",
      "Best l for 26: 0.15\n",
      "Best l for 27: 5.5\n",
      "Best l for 28: 1.0\n",
      "Best l for 29: 1.35\n",
      "Best l for 30: 0.6\n",
      "Best l for 31: 1.5\n",
      "Best l for 32: 0.0\n",
      "Best l for 33: 0.5\n",
      "Best l for 34: 2.5\n",
      "Best l for 35: 0.0\n",
      "Best l for 36: 0.5\n",
      "Best l for 37: 0.0\n",
      "Best l for 38: 0.0\n",
      "Best l for 39: 0.6\n",
      "Best l for 40: 4.5\n",
      "Best l for 41: 0.15\n",
      "Best l for 42: 2.0\n",
      "Best l for 43: 0.15\n",
      "Best l for 44: 0.9\n",
      "Best l for 45: 1.95\n",
      "Best l for 46: 0.6\n",
      "Best l for 47: 10.0\n",
      "Best l for 48: 4.0\n",
      "Best l for 49: 1.0\n",
      "Best l for 50: 0.5\n",
      "Best l for 51: 1.0\n",
      "Best l for 52: 0.0\n",
      "Best l for 53: 0.45\n",
      "Best l for 54: 0.75\n",
      "Best l for 55: 1.05\n",
      "Best l for 56: 0.75\n",
      "Best l for 57: 0.0\n",
      "Best l for 58: 1.05\n",
      "Best l for 59: 0.5\n",
      "Best l for 60: 0.0\n",
      "Best l for 61: 0.0\n",
      "Best l for 62: 0.0\n",
      "Best l for 63: 6.0\n",
      "Best l for 64: 0.75\n",
      "Best l for 65: 0.15\n",
      "Best l for 66: 0.6\n",
      "Best l for 67: 10.0\n",
      "Best l for 68: 1.0\n",
      "Best l for 69: 1.0\n",
      "Best l for 70: 1.5\n",
      "Best l for 71: 0.3\n",
      "Best l for 72: 0.0\n",
      "Best l for 73: 7.0\n",
      "Best l for 74: 0.0\n",
      "Best l for 75: 1.0\n",
      "Best l for 76: 2.7\n",
      "Best l for 77: 0.0\n",
      "Best l for 78: 0.9\n",
      "Best l for 79: 1.5\n",
      "Best l for 80: 0.9\n",
      "Best l for 81: 0.3\n",
      "Best l for 82: 0.6\n",
      "Best l for 83: 10.0\n",
      "Best l for 84: 6.0\n",
      "Best l for 85: 0.75\n",
      "Best l for 86: 1.5\n",
      "Best l for 87: 1.05\n",
      "Best l for 88: 0.9\n",
      "Best l for 89: 3.5\n",
      "Best l for 90: 3.0\n",
      "Best l for 91: 0.9\n",
      "Best l for 92: 9.0\n",
      "Best l for 93: 5.5\n",
      "Best l for 94: 1.65\n",
      "Best l for 95: 0.45\n",
      "Best l for 96: 1.2\n",
      "Best l for 97: 1.2\n",
      "Best l for 98: 0.3\n",
      "Best l for 99: 1.0\n",
      "Best l for 100: 0.5\n",
      "Best l for 101: 1.35\n",
      "Best l for 102: 1.35\n",
      "Best l for 103: 0.0\n",
      "Best l for 104: 1.5\n",
      "Best l for 105: 0.5\n",
      "Best l for 106: 1.35\n",
      "Best l for 107: 2.1\n",
      "Best l for 108: 7.0\n",
      "Best l for 109: 8.0\n",
      "Best l for 110: 0.5\n",
      "Best l for 111: 1.2\n",
      "Best l for 112: 0.0\n",
      "Best l for 113: 7.5\n",
      "Best l for 114: 0.0\n",
      "Best l for 115: 0.15\n",
      "Best l for 116: 0.0\n",
      "Best l for 117: 1.0\n",
      "Best l for 118: 2.0\n",
      "Best l for 119: 1.2\n",
      "Best l for 120: 0.75\n",
      "Best l for 121: 1.2\n",
      "Best l for 122: 3.0\n",
      "Best l for 123: 3.5\n",
      "Best l for 124: 0.3\n"
     ]
    }
   ],
   "source": [
    "lambdas = np.empty(125)\n",
    "for s in range(125):\n",
    "    best_score = 0.\n",
    "    best_l = 0.\n",
    "    for l in np.linspace(0, 10, 21):\n",
    "        score = score_sender(predict_sender(X_train[s], y_train[s], X_test[s], l), y_test[s])\n",
    "        if(best_score < score):\n",
    "            best_score = score\n",
    "            best_l = l\n",
    "            \n",
    "    for l in np.linspace(0, 3, 21):\n",
    "        score = score_sender(predict_sender(X_train[s], y_train[s], X_test[s], l), y_test[s])\n",
    "        if(best_score < score):\n",
    "            best_score = score\n",
    "            best_l = l\n",
    "    print(\"Best l for {}: {}\".format(s, best_l))\n",
    "    lambdas[s] = best_l"
   ]
  },
  {
   "cell_type": "code",
   "execution_count": 138,
   "metadata": {
    "collapsed": true
   },
   "outputs": [],
   "source": [
    "def predict2(X_train, y_train, X_test, l, verbose=False):\n",
    "    y_pred = [[] for i in range(125)]\n",
    "    for s in range(125):\n",
    "        if verbose:\n",
    "            print s\n",
    "        y_pred[s] = predict_sender(X_train[s], y_train[s], X_test[s], l[s])\n",
    "    return y_pred"
   ]
  },
  {
   "cell_type": "code",
   "execution_count": 139,
   "metadata": {
    "collapsed": false
   },
   "outputs": [
    {
     "name": "stderr",
     "output_type": "stream",
     "text": [
      "/home/daemonginger/anaconda2/lib/python2.7/site-packages/ipykernel/__main__.py:8: RuntimeWarning: divide by zero encountered in power\n"
     ]
    }
   ],
   "source": [
    "y_pred = predict2(X_train, y_train, X_test, lambdas, verbose=False)"
   ]
  },
  {
   "cell_type": "code",
   "execution_count": 140,
   "metadata": {
    "collapsed": false
   },
   "outputs": [
    {
     "ename": "TypeError",
     "evalue": "'float' object is not callable",
     "output_type": "error",
     "traceback": [
      "\u001b[0;31m---------------------------------------------------------------------------\u001b[0m",
      "\u001b[0;31mTypeError\u001b[0m                                 Traceback (most recent call last)",
      "\u001b[0;32m<ipython-input-140-d823c2a4c26b>\u001b[0m in \u001b[0;36m<module>\u001b[0;34m()\u001b[0m\n\u001b[0;32m----> 1\u001b[0;31m \u001b[0mscor\u001b[0m\u001b[0;34m,\u001b[0m \u001b[0mscores\u001b[0m \u001b[0;34m=\u001b[0m \u001b[0mscore\u001b[0m\u001b[0;34m(\u001b[0m\u001b[0my_pred\u001b[0m\u001b[0;34m,\u001b[0m \u001b[0my_test\u001b[0m\u001b[0;34m)\u001b[0m\u001b[0;34m\u001b[0m\u001b[0m\n\u001b[0m\u001b[1;32m      2\u001b[0m \u001b[0mscor\u001b[0m\u001b[0;34m\u001b[0m\u001b[0m\n",
      "\u001b[0;31mTypeError\u001b[0m: 'float' object is not callable"
     ]
    }
   ],
   "source": [
    "scor, scores = score(y_pred, y_test)\n",
    "scor"
   ]
  },
  {
   "cell_type": "code",
   "execution_count": 18,
   "metadata": {
    "collapsed": true
   },
   "outputs": [],
   "source": [
    "df_test = pd.read_csv('data/test.csv').sort_values('date')\n",
    "X_test2 = df_test.values"
   ]
  },
  {
   "cell_type": "code",
   "execution_count": 19,
   "metadata": {
    "collapsed": false
   },
   "outputs": [],
   "source": [
    "X, y = df[['sender_id', 'date']].values, df['recipient_id'].values\n",
    "    \n",
    "X_full = np.array([np.datetime64(s[1]) for s in X]).astype('int64')\n",
    "    \n",
    "X_train, y_train = defaultdict(lambda: []), defaultdict(lambda: [])\n",
    "recipient_indexes = []\n",
    "for i in range(len(X)):\n",
    "    X_train[X[i][0]].append(X_full[i])\n",
    "    y_train[X[i][0]].append(y[i])"
   ]
  },
  {
   "cell_type": "code",
   "execution_count": 20,
   "metadata": {
    "collapsed": false
   },
   "outputs": [],
   "source": [
    "y_pred2 = np.zeros((len(X_test2), 10))\n",
    "for i in range(len(X_test2)):\n",
    "    s = X_test2[i][1]\n",
    "    graph = np.zeros(9874)\n",
    "    for j in range(len(X_train[s])):\n",
    "        for r in y_train[s][j]:\n",
    "            graph[r] += (np.datetime64(X_test2[i][3]).astype('int64') - X_train[s][j])**(-lambdas[s])\n",
    "    y_pred2[i] = np.argsort(graph)[::-1][:10]"
   ]
  },
  {
   "cell_type": "code",
   "execution_count": 21,
   "metadata": {
    "collapsed": true
   },
   "outputs": [],
   "source": [
    "recipient_ids = {}\n",
    "for l in df[['recipient_id', 'recipients']].values:\n",
    "    a = l[1].split()\n",
    "    for i in range(len(a)):\n",
    "        recipient_ids[l[0][i]] = a[i]\n",
    "        \n",
    "with open('data/sub_memory_model_1.txt', 'w') as f:\n",
    "    f.write('mid,recipients\\n')\n",
    "    mids = df_test['mid'].values\n",
    "    for i in range(len(y_pred2)):\n",
    "        f.write('{},'.format(mids[i]))\n",
    "        for r in y_pred2[i]:\n",
    "            f.write(recipient_ids[r] + ' ')\n",
    "        f.write('\\n')"
   ]
  },
  {
   "cell_type": "code",
   "execution_count": 22,
   "metadata": {
    "collapsed": false
   },
   "outputs": [
    {
     "data": {
      "text/plain": [
       "2362"
      ]
     },
     "execution_count": 22,
     "metadata": {},
     "output_type": "execute_result"
    }
   ],
   "source": [
    "len(X_test2)"
   ]
  },
  {
   "cell_type": "code",
   "execution_count": 24,
   "metadata": {
    "collapsed": false
   },
   "outputs": [
    {
     "data": {
      "text/html": [
       "<div>\n",
       "<table border=\"1\" class=\"dataframe\">\n",
       "  <thead>\n",
       "    <tr style=\"text-align: right;\">\n",
       "      <th></th>\n",
       "      <th>sender</th>\n",
       "      <th>sender_id</th>\n",
       "      <th>mid</th>\n",
       "      <th>date</th>\n",
       "      <th>body</th>\n",
       "      <th>recipient_id</th>\n",
       "      <th>recipients</th>\n",
       "    </tr>\n",
       "  </thead>\n",
       "  <tbody>\n",
       "    <tr>\n",
       "      <th>5304</th>\n",
       "      <td>enron_update@concureworkplace.com</td>\n",
       "      <td>124</td>\n",
       "      <td>47361</td>\n",
       "      <td>0001-08-26 22:16:36</td>\n",
       "      <td>The following reports have been waiting for yo...</td>\n",
       "      <td>[377]</td>\n",
       "      <td>kimberly.watson@enron.com</td>\n",
       "    </tr>\n",
       "    <tr>\n",
       "      <th>5305</th>\n",
       "      <td>enron_update@concureworkplace.com</td>\n",
       "      <td>124</td>\n",
       "      <td>47362</td>\n",
       "      <td>0001-08-27 22:21:02</td>\n",
       "      <td>The following reports have been waiting for yo...</td>\n",
       "      <td>[377]</td>\n",
       "      <td>kimberly.watson@enron.com</td>\n",
       "    </tr>\n",
       "    <tr>\n",
       "      <th>5306</th>\n",
       "      <td>enron_update@concureworkplace.com</td>\n",
       "      <td>124</td>\n",
       "      <td>47363</td>\n",
       "      <td>0001-08-28 22:25:35</td>\n",
       "      <td>The following reports have been waiting for yo...</td>\n",
       "      <td>[377]</td>\n",
       "      <td>kimberly.watson@enron.com</td>\n",
       "    </tr>\n",
       "    <tr>\n",
       "      <th>5285</th>\n",
       "      <td>enron_update@concureworkplace.com</td>\n",
       "      <td>124</td>\n",
       "      <td>45909</td>\n",
       "      <td>0001-09-13 22:24:08</td>\n",
       "      <td>Employee Name: Kimberly WatsonReport Name:   E...</td>\n",
       "      <td>[377]</td>\n",
       "      <td>kimberly.watson@enron.com</td>\n",
       "    </tr>\n",
       "    <tr>\n",
       "      <th>8934</th>\n",
       "      <td>enron_update@concureworkplace.com</td>\n",
       "      <td>124</td>\n",
       "      <td>82030</td>\n",
       "      <td>0001-09-17 09:24:00</td>\n",
       "      <td>The following expense report is ready for appr...</td>\n",
       "      <td>[121]</td>\n",
       "      <td>barry.tycholiz@enron.com</td>\n",
       "    </tr>\n",
       "  </tbody>\n",
       "</table>\n",
       "</div>"
      ],
      "text/plain": [
       "                                 sender  sender_id    mid  \\\n",
       "5304  enron_update@concureworkplace.com        124  47361   \n",
       "5305  enron_update@concureworkplace.com        124  47362   \n",
       "5306  enron_update@concureworkplace.com        124  47363   \n",
       "5285  enron_update@concureworkplace.com        124  45909   \n",
       "8934  enron_update@concureworkplace.com        124  82030   \n",
       "\n",
       "                     date                                               body  \\\n",
       "5304  0001-08-26 22:16:36  The following reports have been waiting for yo...   \n",
       "5305  0001-08-27 22:21:02  The following reports have been waiting for yo...   \n",
       "5306  0001-08-28 22:25:35  The following reports have been waiting for yo...   \n",
       "5285  0001-09-13 22:24:08  Employee Name: Kimberly WatsonReport Name:   E...   \n",
       "8934  0001-09-17 09:24:00  The following expense report is ready for appr...   \n",
       "\n",
       "     recipient_id                 recipients  \n",
       "5304        [377]  kimberly.watson@enron.com  \n",
       "5305        [377]  kimberly.watson@enron.com  \n",
       "5306        [377]  kimberly.watson@enron.com  \n",
       "5285        [377]  kimberly.watson@enron.com  \n",
       "8934        [121]   barry.tycholiz@enron.com  "
      ]
     },
     "execution_count": 24,
     "metadata": {},
     "output_type": "execute_result"
    }
   ],
   "source": [
    "df.head()"
   ]
  },
  {
   "cell_type": "code",
   "execution_count": 29,
   "metadata": {
    "collapsed": false
   },
   "outputs": [
    {
     "data": {
      "text/plain": [
       "array([['enron_update@concureworkplace.com', 124, 79469,\n",
       "        '2001-11-13 07:31:36',\n",
       "        'The following expense report is ready for approval:Employee Name: Zachary D. CostelloStatus last changed by:  Automated AdministratorExpense Report Name: ZCReport Total: $65.40Amount Due Employee: $65.40To approve this expense report, click on the following link for Concur Expense.http://expensexms.enron.com'],\n",
       "       ['enron_update@concureworkplace.com', 124, 79487,\n",
       "        '2001-11-15 07:09:40',\n",
       "        'The following expense report is ready for approval:Employee Name: Matthew  . CommonsStatus last changed by:  Automated AdministratorExpense Report Name: MC111501Report Total: $104.62Amount Due Employee: $104.62To approve this expense report, click on the following link for Concur Expense.http://expensexms.enron.com'],\n",
       "       ['enron_update@concureworkplace.com', 124, 50379,\n",
       "        '2001-11-16 16:44:15',\n",
       "        'The following expense report is ready for approval:Employee Name: Susan J. MaraStatus last changed by:  Automated AdministratorExpense Report Name: SJM11152001Report Total: $448.94Amount Due Employee: $448.94To approve this expense report, click on the following link for Concur Expense.http://expensexms.enron.com'],\n",
       "       ['enron_update@concureworkplace.com', 124, 50386,\n",
       "        '2001-11-18 21:29:50',\n",
       "        'The following reports have been waiting for your approval for more than 4 days.  Please review.Owner: Luiz T MaurerReport Name: LM 111301Days In Mgr. Queue: 5'],\n",
       "       ['enron_update@concureworkplace.com', 124, 50334,\n",
       "        '2001-11-19 21:18:42',\n",
       "        'The following reports have been waiting for your approval for more than 4 days.  Please review.Owner: Luiz T MaurerReport Name: LM 111301Days In Mgr. Queue: 6'],\n",
       "       ['enron_update@concureworkplace.com', 124, 391878,\n",
       "        '2001-11-19 21:18:51',\n",
       "        'The following reports have been waiting for your approval for more than 4 days.  Please review.Owner: Christopher J GaskillReport Name: Gaskill111301Days In Mgr. Queue: 6'],\n",
       "       ['enron_update@concureworkplace.com', 124, 79366,\n",
       "        '2001-11-19 21:18:51',\n",
       "        'The following reports have been waiting for your approval for more than 4 days.  Please review.Owner: Richard P BergsiekerReport Name: Amex & COP October 2001Days In Mgr. Queue: 4'],\n",
       "       ['enron_update@concureworkplace.com', 124, 27375,\n",
       "        '2001-11-21 10:14:28',\n",
       "        'The following expense report is ready for approval:Employee Name: Jane M. TholtStatus last changed by:  Automated AdministratorExpense Report Name: November 21, 2001Report Total: $67.00Amount Due Employee: $67.00To approve this expense report, click on the following link for Concur Expense.http://expensexms.enron.com'],\n",
       "       ['enron_update@concureworkplace.com', 124, 79299,\n",
       "        '2001-11-21 21:15:20',\n",
       "        'The following reports have been waiting for your approval for more than 4 days.  Please review.Owner: Richard P BergsiekerReport Name: Amex & COP October 2001Days In Mgr. Queue: 6'],\n",
       "       ['enron_update@concureworkplace.com', 124, 382224,\n",
       "        '2001-11-21 22:16:11',\n",
       "        'The Payment status has changed on the following report:Status last changed by:  SystemExpense Report Name: Monthly Cellular BillReport Total: $164.69Amount Due Employee: $164.69Amount Approved: $164.69Amount Paid: $164.69Approval Status: ApprovedPayment Status: PaidTo review this expense report, click on the following link for Concur Expense.http://expensexms.enron.com'],\n",
       "       ['enron_update@concureworkplace.com', 124, 93440,\n",
       "        '2001-11-25 21:18:34',\n",
       "        'The following reports have been waiting for your approval for more than 4 days.  Please review.Owner: Justin K RostantReport Name: Rostant 112001Days In Mgr. Queue: 5'],\n",
       "       ['enron_update@concureworkplace.com', 124, 392058,\n",
       "        '2001-11-25 21:18:35',\n",
       "        'The following reports have been waiting for your approval for more than 4 days.  Please review.Owner: Christopher J GaskillReport Name: Gaskill111301Days In Mgr. Queue: 12'],\n",
       "       ['enron_update@concureworkplace.com', 124, 27394,\n",
       "        '2001-11-25 21:18:42',\n",
       "        'The following reports have been waiting for your approval for more than 4 days.  Please review.Owner: Jane M TholtReport Name: November 21, 2001Days In Mgr. Queue: 4'],\n",
       "       ['enron_update@concureworkplace.com', 124, 48500,\n",
       "        '2001-11-26 06:49:52',\n",
       "        'The following expense report is ready for approval:Employee Name: David F. PerrinoStatus last changed by:  Automated AdministratorExpense Report Name: David PerrinoReport Total: $248.20Amount Due Employee: $248.20To approve this expense report, click on the following link for Concur Expense.http://expensexms.enron.com'],\n",
       "       ['enron_update@concureworkplace.com', 124, 79227,\n",
       "        '2001-11-27 03:09:03',\n",
       "        'The Payment status has changed on the following report:Status last changed by:  SystemExpense Report Name: Jeff ShankmanReport Total: $1,264.52Amount Due Employee: $1,264.52Amount Approved: $1,264.52Amount Paid: $0.00Approval Status: ApprovedPayment Status: ProcessedTo review this expense report, click on the following link for Concur Expense.http://expensexms.enron.com'],\n",
       "       ['enron_update@concureworkplace.com', 124, 31928,\n",
       "        '2001-11-29 10:57:10',\n",
       "        'The following expense report is ready for approval:Employee Name: Linda  . GuinnStatus last changed by:  Automated AdministratorExpense Report Name: Linda Guinn MiscReport Total: $222.93Amount Due Employee: $222.93To approve this expense report, click on the following link for Concur Expense.http://expensexms.enron.com'],\n",
       "       ['enron_update@concureworkplace.com', 124, 394431,\n",
       "        '2001-11-29 13:58:51',\n",
       "        'The following expense report is ready for approval:Employee Name: Mark E. KoenigStatus last changed by:  Automated AdministratorExpense Report Name: Mark KoenigReport Total: $1,718.02Amount Due Employee: $1,718.02To approve this expense report, click on the following link for Concur Expense.http://expensexms.enron.com'],\n",
       "       ['enron_update@concureworkplace.com', 124, 31924,\n",
       "        '2001-11-30 13:52:52',\n",
       "        'The following expense report is ready for approval:Employee Name: Michelle A. BlaineStatus last changed by:  Automated AdministratorExpense Report Name: Blaine November ExpensesReport Total: $2,936.52Amount Due Employee: $2,936.52To approve this expense report, click on the following link for Concur Expense.http://expensexms.enron.com'],\n",
       "       ['enron_update@concureworkplace.com', 124, 394230,\n",
       "        '2002-01-03 09:15:15',\n",
       "        'The following expense report is ready for approval:Employee Name: Mark E. KoenigStatus last changed by:  Automated AdministratorExpense Report Name: Mark KoenigReport Total: $727.88Amount Due Employee: $727.88To approve this expense report, click on the following link for Concur Expense.http://expensexms.enron.com'],\n",
       "       ['enron_update@concureworkplace.com', 124, 394198,\n",
       "        '2002-01-07 21:27:33',\n",
       "        'The following reports have been waiting for your approval for more than 4 days.  Please review.Owner: Mark E KoenigReport Name: Mark KoenigDays In Mgr. Queue: 4']], dtype=object)"
      ]
     },
     "execution_count": 29,
     "metadata": {},
     "output_type": "execute_result"
    }
   ],
   "source": [
    "df_test.values[df_test['sender'].values == 'enron_update@concureworkplace.com']"
   ]
  },
  {
   "cell_type": "code",
   "execution_count": 32,
   "metadata": {
    "collapsed": false
   },
   "outputs": [
    {
     "data": {
      "text/plain": [
       "334"
      ]
     },
     "execution_count": 32,
     "metadata": {},
     "output_type": "execute_result"
    }
   ],
   "source": [
    "len(df.values[df['sender'].values == 'enron_update@concureworkplace.com'])"
   ]
  },
  {
   "cell_type": "code",
   "execution_count": 17,
   "metadata": {
    "collapsed": false
   },
   "outputs": [
    {
     "data": {
      "text/plain": [
       "array([[ 'The following reports have been waiting for your approval for more than 4 days.  Please review.Owner: Lorraine LindbergReport Name: May-Aug01Days In Mgr. Queue: 16',\n",
       "        'kimberly.watson@enron.com'],\n",
       "       [ 'The following reports have been waiting for your approval for more than 4 days.  Please review.Owner: Lorraine LindbergReport Name: May-Aug01Days In Mgr. Queue: 17',\n",
       "        'kimberly.watson@enron.com'],\n",
       "       [ 'The following reports have been waiting for your approval for more than 4 days.  Please review.Owner: Lorraine LindbergReport Name: May-Aug01Days In Mgr. Queue: 18',\n",
       "        'kimberly.watson@enron.com'],\n",
       "       ..., \n",
       "       [ 'Here are my thoughts.  I have to be honest, I m struggling with the Transco / RTO split.Jim',\n",
       "        'janel.guerrero@enron.com l..nicolay@enron.com sarah.novosel@enron.com'],\n",
       "       [ 'Luiz --I don t think that I ll send this given the current direction of the PUC to move forward with TX.  I do think that these points are important and maybe Jean R. can get them in verbally as appropriate.Thanks,Jim ',\n",
       "        'jean.ryall@enron.com luiz.maurer@enron.com'],\n",
       "       [ 'Yes, but I think we may lose that rating.  What is the impact if that were to occur?  Seems like we should (a) identify our situation given today s environment and (b) identify the impact of one further downgrade.Jim ',\n",
       "        'amr.ibrahim@enron.com harry.kingerski@enron.com gloria.ogenyi@enron.com']], dtype=object)"
      ]
     },
     "execution_count": 17,
     "metadata": {},
     "output_type": "execute_result"
    }
   ],
   "source": [
    "df[['body', 'recipients']].values"
   ]
  },
  {
   "cell_type": "code",
   "execution_count": 20,
   "metadata": {
    "collapsed": false
   },
   "outputs": [],
   "source": [
    "lambdas = []\n",
    "with open('lol', 'r') as f:\n",
    "    for l in f:\n",
    "        lambdas.append(float(l.split()[-1]))"
   ]
  },
  {
   "cell_type": "code",
   "execution_count": 23,
   "metadata": {
    "collapsed": false
   },
   "outputs": [],
   "source": [
    "np.savetxt('lambdas.txt', lambdas)"
   ]
  },
  {
   "cell_type": "code",
   "execution_count": null,
   "metadata": {
    "collapsed": true
   },
   "outputs": [],
   "source": []
  }
 ],
 "metadata": {
  "kernelspec": {
   "display_name": "Python 2",
   "language": "python",
   "name": "python2"
  },
  "language_info": {
   "codemirror_mode": {
    "name": "ipython",
    "version": 2
   },
   "file_extension": ".py",
   "mimetype": "text/x-python",
   "name": "python",
   "nbconvert_exporter": "python",
   "pygments_lexer": "ipython2",
   "version": "2.7.13"
  }
 },
 "nbformat": 4,
 "nbformat_minor": 2
}
